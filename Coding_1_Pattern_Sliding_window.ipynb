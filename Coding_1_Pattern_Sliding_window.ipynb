{
  "cells": [
    {
      "cell_type": "code",
      "execution_count": null,
      "metadata": {
        "id": "lvRKm9kfTCK4",
        "outputId": "f1208563-334c-4604-c406-609ded3e6102"
      },
      "outputs": [
        {
          "name": "stdout",
          "output_type": "stream",
          "text": [
            "Bhagavan Mahamrityunjaya\n"
          ]
        }
      ],
      "source": [
        "print('Bhagavan Mahamrityunjaya')"
      ]
    },
    {
      "cell_type": "code",
      "execution_count": null,
      "metadata": {
        "id": "UuW58LAjTClT"
      },
      "outputs": [],
      "source": [
        "●\tLead research and development of 5G volte optimization using deep learning algorithms on telco KPIs time series data.\n",
        "●\tAs Technical Lead, guiding and mentoring 2 teams working on network intelligence and business intelligence projects.\n",
        "●\tWorked on building generative AI based telco chatbot for ticket alarms data faster resolution assisting the analysts using pre-trained large language models GPT-3.5, Google PaLM2, and fine tuning with telco incident historical data.\n",
        "●\tWorked on telco NLP problems incident classification and ticket summarization using pre-trained large language models  PaLM2, GPT-3.5 using scikit-LLM and performed experiments with zero-shot learning, few-shot learning and fine-tuning.\n",
        "●\tWorked on text tweet data sentiment analysis and category classification using natural language processing based transformer pre-trained models namely BERT, RoBERTa,  ALBERT.\n",
        "●\t Worked on churn prediction using machine learning models and subscriber segmentation using clustering.\n",
        "●\tDeveloped production ready anomaly detection solution using model based deep learning algorithms and unsupervised model free based that assists business analysts in telco network faults resolution.\n",
        "●\tBuilt State of the art deep learning algorithms (CNN, RNN, Seq2seq with feedback at decoder RNN, Transformers) based time series network capacity forecasting solutions that assists SMEs in proper capacity planning of cell network.\n",
        "●\tAt KDD 2020, submitted paper “Time Series Anomaly Detection Using Enhanced Spectral Residual Approach” having superior results beating other state of the art techniques.\n"
      ]
    },
    {
      "cell_type": "code",
      "execution_count": null,
      "metadata": {
        "id": "GvVhATktTCok",
        "outputId": "b82e07df-9242-466a-f578-d830d2df4805"
      },
      "outputs": [
        {
          "name": "stdout",
          "output_type": "stream",
          "text": [
            "True\n",
            "False\n",
            "True\n"
          ]
        }
      ],
      "source": [
        "# meta q2\n",
        "\n",
        "#Given a sequence of non-negative integers and an integer total target,\n",
        "#returns whether a continuous sequence of integers sums up to the target.\n",
        "\n",
        "#Input: [1, 3, 1, 4, 23], 8\n",
        "#Output: True\n",
        "\n",
        "#Input: [1, 3, 1, 4, 23], 7\n",
        "#Output: False\n",
        "\n",
        "def cont_seq(arr, target):\n",
        "\n",
        "    st,ed=0,0\n",
        "    wsum=0\n",
        "\n",
        "    for ed in range(len(arr)):\n",
        "        wsum=wsum+arr[ed]\n",
        "\n",
        "        while( wsum > target):\n",
        "            wsum = wsum - arr[st]\n",
        "            st=st+1\n",
        "        if wsum == target:\n",
        "            return True\n",
        "\n",
        "    return False\n",
        "\n",
        "print(cont_seq([1, 3, 1, 4, 23], 8))\n",
        "print(cont_seq([1, 3, 1, 4, 23], 7))\n",
        "print(cont_seq( [1, 3, 10, 4, 23], 10))"
      ]
    },
    {
      "cell_type": "code",
      "execution_count": null,
      "metadata": {
        "id": "RiTaq-mFTCqz",
        "outputId": "3c820028-f597-4e60-e90f-0879caac359a"
      },
      "outputs": [
        {
          "name": "stdout",
          "output_type": "stream",
          "text": [
            "True\n",
            "False\n",
            "False\n",
            "True\n",
            "False\n",
            "True\n"
          ]
        }
      ],
      "source": [
        "# meta q1\n",
        "\n",
        "#Given a string S consisting of lowercase English characters, determine\n",
        "#if you can make it a palindrome by removing at most 1 character.\n",
        "\n",
        "#Input #1: tacocats --> True\n",
        "#Input #2: abcd —-> False\n",
        "\n",
        "def pal_check(string, num):\n",
        "\n",
        "    st = 0\n",
        "    ed = len(string)-1\n",
        "    flag=0\n",
        "    char_count = 0   # number of atmost characters to remove to make string a palindrome\n",
        "\n",
        "    while(st<=ed):\n",
        "        if string[st]!=string[ed]:\n",
        "            if char_count == num:\n",
        "                flag = 0\n",
        "                break\n",
        "            if string[st+1]==string[ed] or string[st]==string[ed-1]:\n",
        "                if string[st+1]==string[ed]:\n",
        "                    st =st +1\n",
        "                if string[st]==string[ed-1]:\n",
        "                    ed = ed -1\n",
        "                flag= 1\n",
        "                char_count += 1\n",
        "\n",
        "            else:\n",
        "                flag=0\n",
        "                break\n",
        "\n",
        "        else:\n",
        "            st= st+1\n",
        "            ed=ed-1\n",
        "\n",
        "    if flag==1:\n",
        "        return True\n",
        "    else:\n",
        "        return False\n",
        "\n",
        "print(pal_check('tacocats', 1))\n",
        "print(pal_check('abcd', 1))\n",
        "print(pal_check('tacomcats', 1))\n",
        "print(pal_check('tacomcats', 2))\n",
        "print(pal_check('tacomdocxats', 2))\n",
        "print(pal_check('tacomdocxats', 3))"
      ]
    },
    {
      "cell_type": "code",
      "execution_count": null,
      "metadata": {
        "id": "4JU5b0rSTCs-"
      },
      "outputs": [],
      "source": []
    },
    {
      "cell_type": "markdown",
      "metadata": {
        "id": "2E6zm2SsTCuu"
      },
      "source": [
        "# Given an array, find the average of each subarray of ‘K’ contiguous elements in it."
      ]
    },
    {
      "cell_type": "markdown",
      "metadata": {
        "id": "TvpT7zhATC9W"
      },
      "source": [
        "Array: [1, 3, 2, 6, -1, 4, 1, 8, 2], K=5\n",
        "\n",
        "Output: [2.2, 2.8, 2.4, 3.6, 2.8]"
      ]
    },
    {
      "cell_type": "code",
      "execution_count": null,
      "metadata": {
        "id": "19lXUcTmTDAq",
        "outputId": "6c4d0a25-4fa6-4185-fc13-7cfddc5dc360"
      },
      "outputs": [
        {
          "name": "stdout",
          "output_type": "stream",
          "text": [
            "Averages of subarrays of size K: [2.2, 2.8, 2.4, 3.6, 2.8]\n"
          ]
        }
      ],
      "source": [
        "\n",
        "def find_averages_of_subarrays(K, arr):\n",
        "    result = []\n",
        "    windowSum, windowStart = 0.0, 0\n",
        "\n",
        "    for windowEnd in range(len(arr)):\n",
        "        windowSum += arr[windowEnd]  # add the next element\n",
        "        # slide the window, no need to slide if we've not hit the required window size of 'k'\n",
        "        if windowEnd >= K - 1:\n",
        "            result.append(windowSum / K)  # calculate the average\n",
        "            windowSum -= arr[windowStart]  # subtract the element going out\n",
        "            windowStart += 1  # slide the window ahead\n",
        "\n",
        "    return result\n",
        "\n",
        "result = find_averages_of_subarrays(5, [1, 3, 2, 6, -1, 4, 1, 8, 2])\n",
        "print(\"Averages of subarrays of size K: \" + str(result))\n"
      ]
    },
    {
      "cell_type": "code",
      "execution_count": null,
      "metadata": {
        "id": "k0pf3YGBTDD_"
      },
      "outputs": [],
      "source": []
    },
    {
      "cell_type": "markdown",
      "metadata": {
        "id": "zlh6tpSGTDE8"
      },
      "source": [
        "# Given an array of positive numbers and a positive number ‘k,’ find the maximum sum of any contiguous subarray of size ‘k’."
      ]
    },
    {
      "cell_type": "markdown",
      "metadata": {
        "id": "XgHzJmR3TDFA"
      },
      "source": [
        "Example 1:\n",
        "\n",
        "Input: [2, 1, 5, 1, 3, 2], k=3\n",
        "\n",
        "Output: 9\n",
        "        Explanation: Subarray with maximum sum is [5, 1, 3].\n",
        "\n",
        "\n",
        "Example 2:\n",
        "\n",
        "Input: [2, 3, 4, 1, 5], k=2\n",
        "\n",
        "Output: 7\n",
        "        Explanation: Subarray with maximum sum is [3, 4]."
      ]
    },
    {
      "cell_type": "code",
      "execution_count": null,
      "metadata": {
        "id": "x1BcpNSNTDFD",
        "outputId": "92860b02-16c8-467b-8026-e64c0ea0d146"
      },
      "outputs": [
        {
          "name": "stdout",
          "output_type": "stream",
          "text": [
            "Maximum sum of a subarray of size K: 9\n",
            "Maximum sum of a subarray of size K: 7\n"
          ]
        }
      ],
      "source": [
        "\n",
        "def max_sub_array_of_size_k(k, arr):\n",
        "    max_sum, window_sum = 0, 0\n",
        "    window_start = 0\n",
        "\n",
        "    for window_end in range(0, len(arr)):\n",
        "        window_sum += arr[window_end]\n",
        "\n",
        "        if window_end >= k-1:\n",
        "            max_sum = max(max_sum, window_sum)\n",
        "            window_sum -=arr[window_start]\n",
        "            window_start += 1\n",
        "\n",
        "    return max_sum\n",
        "\n",
        "print(\"Maximum sum of a subarray of size K: \" +\n",
        "          str(max_sub_array_of_size_k(3, [2, 1, 5, 1, 3, 2])))\n",
        "print(\"Maximum sum of a subarray of size K: \" +\n",
        "          str(max_sub_array_of_size_k(2, [2, 3, 4, 1, 5])))\n",
        "\n",
        ""
      ]
    },
    {
      "cell_type": "code",
      "execution_count": null,
      "metadata": {
        "id": "TRpJrSWgTDGC"
      },
      "outputs": [],
      "source": []
    },
    {
      "cell_type": "markdown",
      "metadata": {
        "id": "M3RmqgoLTDGo"
      },
      "source": [
        "# Smallest Subarray with a Greater Sum"
      ]
    },
    {
      "cell_type": "markdown",
      "metadata": {
        "id": "UoN4t8MxTDG0"
      },
      "source": [
        "### Given an array of positive numbers and a positive number ‘S,’ find the length of the smallest contiguous subarray whose sum is greater than or equal to ‘S’. Return 0 if no such subarray exists."
      ]
    },
    {
      "cell_type": "markdown",
      "metadata": {
        "id": "uV0cpXw9TDHh"
      },
      "source": [
        "Example 1:\n",
        "\n",
        "Input: [2, 1, 5, 2, 3, 2], S=7\n",
        "Output: 2\n",
        "\n",
        "Explanation: The smallest subarray with a sum greater than or equal to '7' is [5, 2].\n",
        "\n",
        "Example 2:\n",
        "\n",
        "Input: [2, 1, 5, 2, 8], S=7\n",
        "Output: 1\n",
        "\n",
        "Explanation: The smallest subarray with a sum greater than or equal to '7' is [8].\n",
        "\n",
        "Example 3:\n",
        "\n",
        "Input: [3, 4, 1, 1, 6], S=8\n",
        "Output: 3\n",
        "\n",
        "Explanation: Smallest subarrays with a sum greater than or equal to '8' are [3, 4, 1]\n",
        "or [1, 1, 6]."
      ]
    },
    {
      "cell_type": "code",
      "execution_count": null,
      "metadata": {
        "id": "8gcwGnqgTDIZ",
        "outputId": "5453f5f6-9dbe-4c01-b7e5-4733485a9e8f"
      },
      "outputs": [
        {
          "name": "stdout",
          "output_type": "stream",
          "text": [
            "Smallest subarray length: 2\n",
            "Smallest subarray length: 1\n",
            "Smallest subarray length: 3\n"
          ]
        }
      ],
      "source": [
        "\n",
        "import math\n",
        "\n",
        "def smallest_subarray_sum(s, arr):\n",
        "    window_sum = 0\n",
        "    min_length = math.inf\n",
        "    window_start = 0\n",
        "\n",
        "    for window_end in range(0, len(arr)):\n",
        "        window_sum += arr[window_end]\n",
        "\n",
        "        while window_sum >= s:\n",
        "            min_length = min(min_length, window_end-window_start+1)\n",
        "            window_sum -= arr[window_start]\n",
        "            window_start += 1\n",
        "\n",
        "    if min_length == math.inf:\n",
        "        return 0\n",
        "    return min_length\n",
        "\n",
        "\n",
        "print(\"Smallest subarray length: \"\n",
        "          + str(smallest_subarray_sum(7, [2, 1, 5, 2, 3, 2])))\n",
        "print(\"Smallest subarray length: \"\n",
        "          + str(smallest_subarray_sum(7, [2, 1, 5, 2, 8])))\n",
        "print(\"Smallest subarray length: \"\n",
        "          + str(smallest_subarray_sum(8, [3, 4, 1, 1, 6])))\n",
        ""
      ]
    },
    {
      "cell_type": "code",
      "execution_count": null,
      "metadata": {
        "id": "wWG0a7kiTDJe"
      },
      "outputs": [],
      "source": []
    },
    {
      "cell_type": "markdown",
      "metadata": {
        "id": "XrFB0yv4TDKD"
      },
      "source": [
        "# Longest Substring with K Distinct Characters (medium)"
      ]
    },
    {
      "cell_type": "markdown",
      "metadata": {
        "id": "s3MppmLlTDKV"
      },
      "source": [
        "### Given a string, find the length of the longest substring in it with no more than K distinct characters. You can assume that K is less than or equal to the length of the given string"
      ]
    },
    {
      "cell_type": "markdown",
      "metadata": {
        "id": "1SSS-sRQTDKq"
      },
      "source": [
        "Example 1:\n",
        "\n",
        "Input: String=\"araaci\", K=2\n",
        "Output: 4\n",
        "\n",
        "Explanation: The longest substring with no more than '2' distinct characters is \"araa\".\n",
        "\n",
        "Example 2:\n",
        "\n",
        "Input: String=\"araaci\", K=1\n",
        "Output: 2\n",
        "\n",
        "Explanation: The longest substring with no more than '1' distinct characters is \"aa\".\n",
        "\n",
        "Example 3:\n",
        "\n",
        "Input: String=\"cbbebi\", K=3\n",
        "Output: 5\n",
        "\n",
        "Explanation: The longest substrings with no more than '3' distinct characters are \"cbbeb\" & \"bbebi\"."
      ]
    },
    {
      "cell_type": "code",
      "execution_count": null,
      "metadata": {
        "id": "Aogrp0cjTDKr",
        "outputId": "89d40c90-7c8c-41d0-f6dc-ceaf2b4364e7"
      },
      "outputs": [
        {
          "name": "stdout",
          "output_type": "stream",
          "text": [
            "Length of the longest substring: 4\n",
            "Length of the longest substring: 2\n",
            "Length of the longest substring: 5\n"
          ]
        }
      ],
      "source": [
        "\n",
        "def longest_substring_with_k_distinct(str1, k):\n",
        "    window_start = 0\n",
        "    max_length = 0\n",
        "    char_frequency = {}\n",
        "\n",
        "    # in the following loop we'll try to extend the range [window_start, window_end]\n",
        "    for window_end in range(len(str1)):\n",
        "        right_char = str1[window_end]\n",
        "        if right_char not in char_frequency:\n",
        "            char_frequency[right_char] = 0\n",
        "        char_frequency[right_char] += 1\n",
        "\n",
        "        # shrink the sliding window, until we are left with 'k' distinct characters in\n",
        "        # the char_frequency\n",
        "        while len(char_frequency) > k:\n",
        "            left_char = str1[window_start]\n",
        "            char_frequency[left_char] -= 1\n",
        "            if char_frequency[left_char] == 0:\n",
        "                del char_frequency[left_char]\n",
        "            window_start += 1  # shrink the window\n",
        "        # remember the maximum length so far\n",
        "        max_length = max(max_length, window_end-window_start + 1)\n",
        "    return max_length\n",
        "\n",
        "\n",
        "def main():\n",
        "    print(\"Length of the longest substring: \"\n",
        "          + str(longest_substring_with_k_distinct(\"araaci\", 2)))\n",
        "    print(\"Length of the longest substring: \"\n",
        "          + str(longest_substring_with_k_distinct(\"araaci\", 1)))\n",
        "    print(\"Length of the longest substring: \"\n",
        "          + str(longest_substring_with_k_distinct(\"cbbebi\", 3)))\n",
        "\n",
        "\n",
        "main()\n"
      ]
    },
    {
      "cell_type": "code",
      "execution_count": null,
      "metadata": {
        "id": "lK9kurapTDMg"
      },
      "outputs": [],
      "source": []
    },
    {
      "cell_type": "markdown",
      "metadata": {
        "id": "Odl_6-bJTDNN"
      },
      "source": [
        "# Fruits into Baskets (medium)\n",
        "\n",
        "Problem Statement-\n",
        "\n",
        "You are visiting a farm to collect fruits. The farm has a single row of fruit trees. You will be given two baskets, and your goal is to pick as many fruits as possible to be placed in the given baskets.\n",
        "\n",
        "You will be given an array of characters where each character represents a fruit tree. The farm has following restrictions:\n",
        "\n",
        "1.] Each basket can have only one type of fruit. There is no limit to how many fruit a basket can hold.\n",
        "\n",
        "2.] You can start with any tree, but you can’t skip a tree once you have started.\n",
        "\n",
        "3.] You will pick exactly one fruit from every tree until you cannot, i.e., you will stop when you have to pick from a third fruit type.\n",
        "\n",
        "Write a function to return the maximum number of fruits in both baskets.\n",
        "\n"
      ]
    },
    {
      "cell_type": "markdown",
      "metadata": {
        "id": "TbR1iyCpTDPU"
      },
      "source": [
        "\n",
        "### Example 1:\n",
        "    \n",
        "Input: Fruit=['A', 'B', 'C', 'A', 'C']\n",
        "Output: 3\n",
        "\n",
        "Explanation: We can put 2 'C' in one basket and one 'A' in the other from the subarray ['C', 'A', 'C']\n",
        "\n",
        "### Example 2:\n",
        "Input: Fruit = ['A', 'B', 'C', 'B', 'B', 'C']\n",
        "Output: 5\n",
        "\n",
        "Explanation: We can put 3 'B' in one basket and two 'C' in the other basket. This can be done if we start with the second letter: ['B', 'C', 'B', 'B', 'C']\n",
        "\n",
        "### Solution\n",
        "This problem follows the Sliding Window pattern and is quite similar to Longest Substring with K Distinct Characters. In this problem, we need to find the length of the longest subarray with no more than two distinct characters (or fruit types!).\n",
        "\n",
        "##### This transforms the current problem into Longest Substring with K Distinct Characters where K=2.\n"
      ]
    },
    {
      "cell_type": "code",
      "execution_count": null,
      "metadata": {
        "id": "tNtVownaTDQS",
        "outputId": "40a71d12-abe7-4405-c993-a304c0d0b9ad"
      },
      "outputs": [
        {
          "name": "stdout",
          "output_type": "stream",
          "text": [
            "Maximum number of fruits: 3\n",
            "Maximum number of fruits: 5\n"
          ]
        }
      ],
      "source": [
        "\n",
        "def fruits_into_baskets(fruits):\n",
        "    window_start = 0\n",
        "    max_length = 0\n",
        "    fruit_frequency = {}\n",
        "\n",
        "    # try to extend the range [window_start, window_end]\n",
        "    for window_end in range(len(fruits)):\n",
        "        right_fruit = fruits[window_end]\n",
        "        if right_fruit not in fruit_frequency:\n",
        "            fruit_frequency[right_fruit] = 0\n",
        "        fruit_frequency[right_fruit] += 1\n",
        "\n",
        "        # shrink the sliding window, until we are left with '2' fruits in the fruit\n",
        "        # frequency dictionary\n",
        "        while len(fruit_frequency) > 2:\n",
        "            left_fruit = fruits[window_start]\n",
        "            fruit_frequency[left_fruit] -= 1\n",
        "            if fruit_frequency[left_fruit] == 0:\n",
        "                del fruit_frequency[left_fruit]\n",
        "            window_start += 1  # shrink the window\n",
        "        max_length = max(max_length, window_end-window_start + 1)\n",
        "    return max_length\n",
        "\n",
        "print(\"Maximum number of fruits: \"\n",
        "          + str(fruits_into_baskets(['A', 'B', 'C', 'A', 'C'])))\n",
        "print(\"Maximum number of fruits: \"\n",
        "          + str(fruits_into_baskets(['A', 'B', 'C', 'B', 'B', 'C'])))"
      ]
    },
    {
      "cell_type": "code",
      "execution_count": null,
      "metadata": {
        "id": "Ro12gZrbTDRA"
      },
      "outputs": [],
      "source": []
    },
    {
      "cell_type": "code",
      "execution_count": null,
      "metadata": {
        "id": "njYDsir2TDRQ"
      },
      "outputs": [],
      "source": []
    },
    {
      "cell_type": "code",
      "execution_count": null,
      "metadata": {
        "id": "nvn7_YXZTDRo"
      },
      "outputs": [],
      "source": []
    },
    {
      "cell_type": "code",
      "execution_count": null,
      "metadata": {
        "id": "2GknB1E1TDR6"
      },
      "outputs": [],
      "source": []
    },
    {
      "cell_type": "code",
      "execution_count": null,
      "metadata": {
        "id": "ik375XFmTDSN"
      },
      "outputs": [],
      "source": []
    },
    {
      "cell_type": "code",
      "execution_count": null,
      "metadata": {
        "id": "IDxD5kC5TDSW"
      },
      "outputs": [],
      "source": []
    },
    {
      "cell_type": "code",
      "execution_count": null,
      "metadata": {
        "id": "9tAXDOumTDUS"
      },
      "outputs": [],
      "source": []
    },
    {
      "cell_type": "code",
      "execution_count": null,
      "metadata": {
        "id": "am-M_a2-TDV1"
      },
      "outputs": [],
      "source": []
    },
    {
      "cell_type": "code",
      "execution_count": null,
      "metadata": {
        "id": "wKmiTZ-aTDZi"
      },
      "outputs": [],
      "source": []
    }
  ],
  "metadata": {
    "kernelspec": {
      "display_name": "Python 3",
      "language": "python",
      "name": "python3"
    },
    "language_info": {
      "codemirror_mode": {
        "name": "ipython",
        "version": 3
      },
      "file_extension": ".py",
      "mimetype": "text/x-python",
      "name": "python",
      "nbconvert_exporter": "python",
      "pygments_lexer": "ipython3",
      "version": "3.8.3"
    },
    "colab": {
      "provenance": []
    }
  },
  "nbformat": 4,
  "nbformat_minor": 0
}
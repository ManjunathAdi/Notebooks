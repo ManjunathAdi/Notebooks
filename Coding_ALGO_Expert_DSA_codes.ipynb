{
  "cells": [
    {
      "cell_type": "code",
      "execution_count": null,
      "metadata": {
        "id": "sNdwAO48rgmq",
        "outputId": "4656fdbb-eee7-419a-a9af-01578e542df1"
      },
      "outputs": [
        {
          "name": "stdout",
          "output_type": "stream",
          "text": [
            "Bhagavan Mahamrityunjaya\n"
          ]
        }
      ],
      "source": [
        "print('Bhagavan Mahamrityunjaya')"
      ],
      "id": "sNdwAO48rgmq"
    },
    {
      "cell_type": "code",
      "execution_count": null,
      "metadata": {
        "id": "jtq1vlzRrgmw"
      },
      "outputs": [],
      "source": [],
      "id": "jtq1vlzRrgmw"
    },
    {
      "cell_type": "code",
      "execution_count": null,
      "metadata": {
        "id": "eXXH6w_Trgmx"
      },
      "outputs": [],
      "source": [],
      "id": "eXXH6w_Trgmx"
    },
    {
      "cell_type": "code",
      "execution_count": null,
      "metadata": {
        "id": "1AyyeaPvrgmx"
      },
      "outputs": [],
      "source": [],
      "id": "1AyyeaPvrgmx"
    },
    {
      "cell_type": "code",
      "execution_count": null,
      "metadata": {
        "id": "JvdfhdDwrgmx"
      },
      "outputs": [],
      "source": [],
      "id": "JvdfhdDwrgmx"
    },
    {
      "cell_type": "code",
      "execution_count": null,
      "metadata": {
        "id": "5GYXG6-Urgmy"
      },
      "outputs": [],
      "source": [],
      "id": "5GYXG6-Urgmy"
    },
    {
      "cell_type": "markdown",
      "metadata": {
        "id": "7ueHU-MJrgmy"
      },
      "source": [
        "# Arrays"
      ],
      "id": "7ueHU-MJrgmy"
    },
    {
      "cell_type": "markdown",
      "metadata": {
        "id": "MR7XmDYKrgm3"
      },
      "source": [
        "    "
      ],
      "id": "MR7XmDYKrgm3"
    },
    {
      "cell_type": "markdown",
      "metadata": {
        "id": "_BrJV-Wzrgm4"
      },
      "source": [
        "# 1.] Two Number sum"
      ],
      "id": "_BrJV-Wzrgm4"
    },
    {
      "cell_type": "markdown",
      "metadata": {
        "id": "tN6c4FNQrgm4"
      },
      "source": [
        " ![Screenshot%202023-06-10%20at%2012.00.26%20PM.png](attachment:Screenshot%202023-06-10%20at%2012.00.26%20PM.png)"
      ],
      "id": "tN6c4FNQrgm4"
    },
    {
      "cell_type": "code",
      "execution_count": null,
      "metadata": {
        "id": "0_Icb-1Ergm4"
      },
      "outputs": [],
      "source": [
        "def twoNumberSum(array, targetSum):\n",
        "    # Write your code here.\n",
        "\n",
        " #   for num in array:\n",
        " #       if (targetSum - num) in array and (targetSum - num) != num:\n",
        " #           return [num, (targetSum - num) ]\n",
        "    for i, num in enumerate(array):\n",
        "        if (targetSum - num) in array[i+1:]:\n",
        "            return [num, (targetSum - num)]\n",
        "    return []\n",
        "\n",
        "#   O(n) time | O(1) space"
      ],
      "id": "0_Icb-1Ergm4"
    },
    {
      "cell_type": "code",
      "execution_count": null,
      "metadata": {
        "id": "UfCvS83-rgm5",
        "outputId": "865b9e83-74a5-4abb-812b-2f5a4eba1a5f"
      },
      "outputs": [
        {
          "data": {
            "text/plain": [
              "[11, -1]"
            ]
          },
          "execution_count": 5,
          "metadata": {},
          "output_type": "execute_result"
        }
      ],
      "source": [
        "array = [3, 5, -4, 8, 11, 1, -1, 6]\n",
        "targetSum = 10\n",
        "twoNumberSum(array, targetSum)"
      ],
      "id": "UfCvS83-rgm5"
    },
    {
      "cell_type": "code",
      "execution_count": null,
      "metadata": {
        "id": "EFw7Atmjrgm6"
      },
      "outputs": [],
      "source": [],
      "id": "EFw7Atmjrgm6"
    },
    {
      "cell_type": "markdown",
      "metadata": {
        "id": "T6OS8hNjrgm6"
      },
      "source": [
        "# 2.] Validate subsequence"
      ],
      "id": "T6OS8hNjrgm6"
    },
    {
      "cell_type": "markdown",
      "metadata": {
        "id": "UUeiYKGBrgm7"
      },
      "source": [
        "![Screenshot%202023-06-10%20at%2012.21.11%20PM.png](attachment:Screenshot%202023-06-10%20at%2012.21.11%20PM.png)"
      ],
      "id": "UUeiYKGBrgm7"
    },
    {
      "cell_type": "code",
      "execution_count": null,
      "metadata": {
        "id": "vNrzs16zrgm7"
      },
      "outputs": [],
      "source": [
        "def isValidSubsequence(array, sequence):\n",
        "\n",
        "    # Write your code here.\n",
        "    j=0\n",
        "    for num in array:\n",
        "        if num == sequence[j]:\n",
        "            j = j + 1\n",
        "        if j == len(sequence):\n",
        "            return True\n",
        "    return False\n",
        "\n",
        "# O(n) time | O(1) space - where n is the length of the array\n",
        ""
      ],
      "id": "vNrzs16zrgm7"
    },
    {
      "cell_type": "code",
      "execution_count": null,
      "metadata": {
        "id": "sbvl1TMargm8",
        "outputId": "9c081ddb-97f2-4b54-bec4-111f634c0fc1"
      },
      "outputs": [
        {
          "data": {
            "text/plain": [
              "True"
            ]
          },
          "execution_count": 8,
          "metadata": {},
          "output_type": "execute_result"
        }
      ],
      "source": [
        "array = [5, 1, 22, 25, 6, -1, 8, 10]\n",
        "sequence = [1, 6, -1, 10]\n",
        "isValidSubsequence(array, sequence)"
      ],
      "id": "sbvl1TMargm8"
    },
    {
      "cell_type": "code",
      "execution_count": null,
      "metadata": {
        "id": "3zIAf1uXrgm8",
        "outputId": "e363d4fd-e7eb-400e-f2d0-102a72bb14d2"
      },
      "outputs": [
        {
          "data": {
            "text/plain": [
              "False"
            ]
          },
          "execution_count": 9,
          "metadata": {},
          "output_type": "execute_result"
        }
      ],
      "source": [
        "array = [5, 1, 22, 25, 6, -1, 8, 10]\n",
        "sequence = [5, 1, 22, 25, 6, -1, 8, 10, 12]\n",
        "isValidSubsequence(array, sequence)"
      ],
      "id": "3zIAf1uXrgm8"
    },
    {
      "cell_type": "code",
      "execution_count": null,
      "metadata": {
        "id": "qGngJtCVrgm9"
      },
      "outputs": [],
      "source": [],
      "id": "qGngJtCVrgm9"
    },
    {
      "cell_type": "markdown",
      "metadata": {
        "id": "QsMXqNdjrgm-"
      },
      "source": [
        "# 3.] Sorted Squared Array"
      ],
      "id": "QsMXqNdjrgm-"
    },
    {
      "cell_type": "markdown",
      "metadata": {
        "id": "pMiPcRnjrgm-"
      },
      "source": [
        "![Screenshot%202023-06-10%20at%2012.29.25%20PM.png](attachment:Screenshot%202023-06-10%20at%2012.29.25%20PM.png)"
      ],
      "id": "pMiPcRnjrgm-"
    },
    {
      "cell_type": "code",
      "execution_count": null,
      "metadata": {
        "id": "5odK_PW-rgm-"
      },
      "outputs": [],
      "source": [
        "def sortedSquaredArray(array):\n",
        "# Write your code here.\n",
        "    st = 0\n",
        "    ed = len(array)-1\n",
        "    i = len(array)-1\n",
        "    ans = [0]*len(array)\n",
        "\n",
        "    while st<=ed:\n",
        "        if abs(array[st]) > abs(array[ed]):\n",
        "            ans[i] = array[st]*array[st]\n",
        "            st=st+1\n",
        "        else:\n",
        "            ans[i] = array[ed]*array[ed]\n",
        "            ed=ed-1\n",
        "        i=i-1\n",
        "    return ans\n",
        "\n",
        "# O(n) time | O(n) space - where n is the length of the array"
      ],
      "id": "5odK_PW-rgm-"
    },
    {
      "cell_type": "code",
      "execution_count": null,
      "metadata": {
        "id": "x8A6reVfrgm_",
        "outputId": "d4b52e72-a0b8-4397-ca60-edcf81e175f4"
      },
      "outputs": [
        {
          "data": {
            "text/plain": [
              "[1, 9, 49, 81, 484, 900]"
            ]
          },
          "execution_count": 11,
          "metadata": {},
          "output_type": "execute_result"
        }
      ],
      "source": [
        "array = [-7, -3, 1, 9, 22, 30]\n",
        "sortedSquaredArray(array)"
      ],
      "id": "x8A6reVfrgm_"
    },
    {
      "cell_type": "code",
      "execution_count": null,
      "metadata": {
        "id": "1IHtJVuTrgnA"
      },
      "outputs": [],
      "source": [],
      "id": "1IHtJVuTrgnA"
    },
    {
      "cell_type": "markdown",
      "metadata": {
        "id": "LP2Z7OCsrgnB"
      },
      "source": [
        "# 4.] Transpose Matrix"
      ],
      "id": "LP2Z7OCsrgnB"
    },
    {
      "cell_type": "code",
      "execution_count": null,
      "metadata": {
        "id": "2qy0ea4nrgnB"
      },
      "outputs": [],
      "source": [
        "def transposeMatrix(matrix):\n",
        "    # Write your code here.\n",
        "    trans_matrix = []\n",
        "\n",
        "    for col in range( len( matrix[0] ) ):\n",
        "        new_row = []\n",
        "        for row in range( len(matrix) ):\n",
        "            new_row.append(matrix[row][col])\n",
        "        trans_matrix.append(new_row)\n",
        "    return trans_matrix\n",
        "\n",
        "# O(w*h) time | O(w*h) space - where w is the width of the matrix and h is height of the matrix"
      ],
      "id": "2qy0ea4nrgnB"
    },
    {
      "cell_type": "code",
      "execution_count": null,
      "metadata": {
        "id": "aC12SlIdrgnC",
        "outputId": "baea20de-12c7-4345-e551-4baba451bdeb"
      },
      "outputs": [
        {
          "data": {
            "text/plain": [
              "[[5, -3, 0], [6, 6, 0], [3, 5, 3], [-3, 2, 12], [12, -1, 3]]"
            ]
          },
          "execution_count": 13,
          "metadata": {},
          "output_type": "execute_result"
        }
      ],
      "source": [
        "matrix = [\n",
        "    [5, 6, 3, -3, 12],\n",
        "    [-3, 6, 5, 2, -1],\n",
        "    [0, 0, 3, 12, 3]\n",
        "  ]\n",
        "transposeMatrix(matrix)"
      ],
      "id": "aC12SlIdrgnC"
    },
    {
      "cell_type": "code",
      "execution_count": null,
      "metadata": {
        "id": "-yzF5JvxrgnD"
      },
      "outputs": [],
      "source": [],
      "id": "-yzF5JvxrgnD"
    },
    {
      "cell_type": "markdown",
      "metadata": {
        "id": "Glj7DqNUrgnE"
      },
      "source": [
        "# 5.] Three Number Sum"
      ],
      "id": "Glj7DqNUrgnE"
    },
    {
      "cell_type": "markdown",
      "metadata": {
        "id": "x62RJ56_rgnE"
      },
      "source": [
        "![Screenshot%202023-06-10%20at%202.10.56%20PM.png](attachment:Screenshot%202023-06-10%20at%202.10.56%20PM.png)"
      ],
      "id": "x62RJ56_rgnE"
    },
    {
      "cell_type": "code",
      "execution_count": null,
      "metadata": {
        "id": "-No7krzyrgnE"
      },
      "outputs": [],
      "source": [
        "def threeNumberSum(array, targetSum):\n",
        "    # Write your code here.\n",
        "    array.sort()\n",
        "    triplets = []\n",
        "    for ind, num in enumerate(array):\n",
        "        for idx in range(ind+1, len(array)):\n",
        "            possible_match = targetSum - (num + array[idx])\n",
        "\n",
        "            if possible_match in array[idx+1:]:\n",
        "                triplets.append([num, array[idx], possible_match])\n",
        "    return triplets\n",
        "\n",
        "# O(n^2) time | O(n) space"
      ],
      "id": "-No7krzyrgnE"
    },
    {
      "cell_type": "code",
      "execution_count": null,
      "metadata": {
        "id": "AY2QUgU5rgnF",
        "outputId": "01f26666-4e3e-4c83-92f4-1d1ff6f1b017"
      },
      "outputs": [
        {
          "data": {
            "text/plain": [
              "[[-8, 2, 6], [-8, 3, 5], [-6, 1, 5]]"
            ]
          },
          "execution_count": 17,
          "metadata": {},
          "output_type": "execute_result"
        }
      ],
      "source": [
        "array = [12, 3, 1, 2, -6, 5, -8, 6]\n",
        "targetSum = 0\n",
        "threeNumberSum(array, targetSum)"
      ],
      "id": "AY2QUgU5rgnF"
    },
    {
      "cell_type": "code",
      "execution_count": null,
      "metadata": {
        "id": "WDLjsi3rrgnF",
        "outputId": "cf89819e-198e-417b-9d1b-316ac1cacf0b"
      },
      "outputs": [
        {
          "data": {
            "text/plain": [
              "[[-8, 2, 6], [-8, 3, 5], [-6, 0, 6], [-6, 1, 5], [-1, 0, 1]]"
            ]
          },
          "execution_count": 18,
          "metadata": {},
          "output_type": "execute_result"
        }
      ],
      "source": [
        "array = [12, 3, 1, 2, -6, 5, 0, -8, -1, 6]\n",
        "targetSum = 0\n",
        "threeNumberSum(array, targetSum)"
      ],
      "id": "WDLjsi3rrgnF"
    },
    {
      "cell_type": "code",
      "execution_count": null,
      "metadata": {
        "id": "RGvcivNUrgnG"
      },
      "outputs": [],
      "source": [],
      "id": "RGvcivNUrgnG"
    },
    {
      "cell_type": "markdown",
      "metadata": {
        "id": "-G3kPl8OrgnH"
      },
      "source": [
        "# 6.] Smallest Difference"
      ],
      "id": "-G3kPl8OrgnH"
    },
    {
      "cell_type": "markdown",
      "metadata": {
        "id": "Gm6pUKvzrgnH"
      },
      "source": [
        "![Screenshot%202023-06-10%20at%202.23.50%20PM.png](attachment:Screenshot%202023-06-10%20at%202.23.50%20PM.png)"
      ],
      "id": "Gm6pUKvzrgnH"
    },
    {
      "cell_type": "code",
      "execution_count": null,
      "metadata": {
        "id": "_edVtrsfrgnH"
      },
      "outputs": [],
      "source": [
        "def smallestDifference(arrayOne, arrayTwo):\n",
        "    # Write your code here.\n",
        "    arrayOne.sort()\n",
        "    arrayTwo.sort()\n",
        "\n",
        "    st1 = 0\n",
        "    st2 = 0\n",
        "    pair=[]\n",
        "    cdiff = float(\"inf\")\n",
        "\n",
        "    while st1 < len(arrayOne) and st2 < len(arrayTwo):\n",
        "        num1=arrayOne[st1]\n",
        "        num2=arrayTwo[st2]\n",
        "        if num1 < num2:\n",
        "            diff = num2 - num1\n",
        "            st1 +=1\n",
        "        elif num2 < num1:\n",
        "            diff = num1 - num2\n",
        "            st2 +=1\n",
        "        else:\n",
        "            return[num1, num2]\n",
        "\n",
        "        if cdiff > diff:\n",
        "            cdiff = diff\n",
        "            pair = [ num1, num2 ]\n",
        "    return pair\n",
        "\n",
        "# O( nlog(n) + mlog(m) ) time | O(1) space -\n",
        "#    where n is the length of the array1 and m is lenght of array2\n",
        ""
      ],
      "id": "_edVtrsfrgnH"
    },
    {
      "cell_type": "code",
      "execution_count": null,
      "metadata": {
        "id": "dx8367-argnI",
        "outputId": "8e199ec2-3581-49ff-f04a-a97ae49fab0e"
      },
      "outputs": [
        {
          "data": {
            "text/plain": [
              "[28, 26]"
            ]
          },
          "execution_count": 20,
          "metadata": {},
          "output_type": "execute_result"
        }
      ],
      "source": [
        "arrayOne = [-1, 5, 10, 20, 28, 3]\n",
        "arrayTwo = [26, 134, 135, 15, 17]\n",
        "smallestDifference(arrayOne, arrayTwo)"
      ],
      "id": "dx8367-argnI"
    },
    {
      "cell_type": "code",
      "execution_count": null,
      "metadata": {
        "id": "zQtMbqR8rgnI"
      },
      "outputs": [],
      "source": [],
      "id": "zQtMbqR8rgnI"
    },
    {
      "cell_type": "markdown",
      "metadata": {
        "id": "OKq-o3pDrgnJ"
      },
      "source": [
        "# 7.] Move Element to End"
      ],
      "id": "OKq-o3pDrgnJ"
    },
    {
      "cell_type": "markdown",
      "metadata": {
        "id": "oqnNn2TDrgnK"
      },
      "source": [
        "![Screenshot%202023-06-10%20at%203.02.18%20PM.png](attachment:Screenshot%202023-06-10%20at%203.02.18%20PM.png)"
      ],
      "id": "oqnNn2TDrgnK"
    },
    {
      "cell_type": "code",
      "execution_count": null,
      "metadata": {
        "id": "QQTVlTzrrgnM"
      },
      "outputs": [],
      "source": [
        "def moveElementToEnd(array, toMove):\n",
        "    # Write your code here.\n",
        "    ed = len(array) - 1\n",
        "    i=0\n",
        "\n",
        "    while i<ed :\n",
        "        while array[ed] == toMove and i<ed :\n",
        "            ed = ed -1\n",
        "        if array[i] == toMove:\n",
        "            array[i], array[ed] = array[ed], array[i]\n",
        "        i = i + 1\n",
        "\n",
        "    return array\n",
        "\n",
        "# O(n) time | O(1) space - where n is the length of the array"
      ],
      "id": "QQTVlTzrrgnM"
    },
    {
      "cell_type": "code",
      "execution_count": null,
      "metadata": {
        "id": "x9BfGRp-rgnM",
        "outputId": "97816788-3775-47fb-bb27-551d9a4090cd"
      },
      "outputs": [
        {
          "data": {
            "text/plain": [
              "[6, 4, 5, 2, 2, 2, 2]"
            ]
          },
          "execution_count": 65,
          "metadata": {},
          "output_type": "execute_result"
        }
      ],
      "source": [
        "array = [2, 4, 2, 5, 6, 2, 2]\n",
        "toMove = 2\n",
        "moveElementToEnd(array, toMove)"
      ],
      "id": "x9BfGRp-rgnM"
    },
    {
      "cell_type": "code",
      "execution_count": null,
      "metadata": {
        "id": "T1Kdq3x9rgnN",
        "outputId": "0dfcb78e-47a9-4481-f75a-2b513b53fbeb"
      },
      "outputs": [
        {
          "name": "stdout",
          "output_type": "stream",
          "text": [
            "0 6\n",
            "0 5 \n",
            "\n",
            "0 5\n",
            "0 4 \n",
            "\n",
            "*** 0 4\n",
            "0 4 [6, 4, 2, 5, 2, 2, 2] \n",
            "\n",
            "1 4\n",
            "1 3 \n",
            "\n",
            "1 3 [6, 4, 2, 5, 2, 2, 2] \n",
            "\n",
            "*** 2 3\n",
            "2 3 [6, 4, 5, 2, 2, 2, 2] \n",
            "\n"
          ]
        }
      ],
      "source": [
        "array = [2, 4, 2, 5, 6, 2, 2]\n",
        "\n",
        "ed = len(array) - 1\n",
        "i=0\n",
        "\n",
        "while i<ed :\n",
        "\n",
        "    while array[ed] == toMove and i<ed :\n",
        "        print(i,ed)\n",
        "        ed -= 1\n",
        "        print(i,ed, \"\\n\")\n",
        "    if array[i] == toMove:\n",
        "        print(\"***\", i, ed)\n",
        "        array[i], array[ed] = array[ed], array[i]\n",
        "    print(i, ed, array, \"\\n\")\n",
        "    i = i + 1\n"
      ],
      "id": "T1Kdq3x9rgnN"
    },
    {
      "cell_type": "code",
      "execution_count": null,
      "metadata": {
        "id": "Jc32GKM6rgnN",
        "outputId": "6d0f3e9f-85dd-4d2c-c32c-8b2b95ee45de"
      },
      "outputs": [
        {
          "data": {
            "text/plain": [
              "[6, 4, 5, 2, 2, 2, 2]"
            ]
          },
          "execution_count": 48,
          "metadata": {},
          "output_type": "execute_result"
        }
      ],
      "source": [
        "array"
      ],
      "id": "Jc32GKM6rgnN"
    },
    {
      "cell_type": "code",
      "execution_count": null,
      "metadata": {
        "id": "BXzf-4u9rgnO"
      },
      "outputs": [],
      "source": [],
      "id": "BXzf-4u9rgnO"
    },
    {
      "cell_type": "markdown",
      "metadata": {
        "id": "pNj-oAo8rgnO"
      },
      "source": [
        "# 8.] Monotonic Array"
      ],
      "id": "pNj-oAo8rgnO"
    },
    {
      "cell_type": "markdown",
      "metadata": {
        "id": "TUpwh3MIrgnO"
      },
      "source": [
        "![Screenshot%202023-06-10%20at%204.38.36%20PM.png](attachment:Screenshot%202023-06-10%20at%204.38.36%20PM.png)"
      ],
      "id": "TUpwh3MIrgnO"
    },
    {
      "cell_type": "code",
      "execution_count": null,
      "metadata": {
        "id": "JN5ZRo5MrgnP"
      },
      "outputs": [],
      "source": [
        "\n",
        "def isMonotonic(array):\n",
        "    # Write your code here.\n",
        "    if array == []:\n",
        "        return True\n",
        "    if len(array)==1:\n",
        "        return True\n",
        "    incr, dcr, cnt = 0, 0, 0\n",
        "    for i in range(0, len(array)-1):\n",
        "        if (array[i]<array[i+1]):\n",
        "            incr =  1\n",
        "        elif (array[i]>array[i+1]):\n",
        "            dcr =  1\n",
        "        else:\n",
        "            cnt=cnt+1\n",
        "    if cnt == len(array)-1:\n",
        "        return True\n",
        "\n",
        "    if incr ^ dcr :\n",
        "        return True\n",
        "    else:\n",
        "        return False\n",
        "\n",
        "# O(n) time | O(1) space - where n is the length of the array"
      ],
      "id": "JN5ZRo5MrgnP"
    },
    {
      "cell_type": "code",
      "execution_count": null,
      "metadata": {
        "id": "KSoqK2fWrgnP",
        "outputId": "d04ad399-07c9-440b-e948-6c865ee31ad8"
      },
      "outputs": [
        {
          "data": {
            "text/plain": [
              "True"
            ]
          },
          "execution_count": 73,
          "metadata": {},
          "output_type": "execute_result"
        }
      ],
      "source": [
        "array = [-1, -5, -10, -1100, -1100, -1101, -1102, -9001]\n",
        "isMonotonic(array)"
      ],
      "id": "KSoqK2fWrgnP"
    },
    {
      "cell_type": "code",
      "execution_count": null,
      "metadata": {
        "id": "wQu_XdKurgnQ",
        "outputId": "73e63695-4a84-46bd-bb40-dcc928f8d3e2"
      },
      "outputs": [
        {
          "data": {
            "text/plain": [
              "False"
            ]
          },
          "execution_count": 74,
          "metadata": {},
          "output_type": "execute_result"
        }
      ],
      "source": [
        "array = [-1, -5, -10, -1100, -900, -1101, -1102, -9001]\n",
        "isMonotonic(array)"
      ],
      "id": "wQu_XdKurgnQ"
    },
    {
      "cell_type": "code",
      "execution_count": null,
      "metadata": {
        "id": "vmxownpargnR"
      },
      "outputs": [],
      "source": [],
      "id": "vmxownpargnR"
    },
    {
      "cell_type": "markdown",
      "metadata": {
        "id": "zZC71bUVrgnR"
      },
      "source": [
        "# 9.] Spiral Traverse"
      ],
      "id": "zZC71bUVrgnR"
    },
    {
      "cell_type": "code",
      "execution_count": null,
      "metadata": {
        "id": "4dnO1AwMrgnR"
      },
      "outputs": [],
      "source": [],
      "id": "4dnO1AwMrgnR"
    },
    {
      "cell_type": "code",
      "execution_count": null,
      "metadata": {
        "id": "btEtF8b5rgnS"
      },
      "outputs": [],
      "source": [],
      "id": "btEtF8b5rgnS"
    },
    {
      "cell_type": "code",
      "execution_count": null,
      "metadata": {
        "id": "UepM_NPwrgnS"
      },
      "outputs": [],
      "source": [],
      "id": "UepM_NPwrgnS"
    },
    {
      "cell_type": "markdown",
      "metadata": {
        "id": "0ycClhLurgnS"
      },
      "source": [
        "# 10.] Array of products"
      ],
      "id": "0ycClhLurgnS"
    },
    {
      "cell_type": "code",
      "execution_count": null,
      "metadata": {
        "id": "Z8y1Us9prgnS"
      },
      "outputs": [],
      "source": [
        "def arrayOfProducts(array):\n",
        "    prods = [1 for _ in range(len(array))]\n",
        "\n",
        "    leftrunningprod = 1\n",
        "    for i in range(len(array)):\n",
        "        prods[i] = leftrunningprod\n",
        "        leftrunningprod *= array[i]\n",
        "\n",
        "    rightrunningprod = 1\n",
        "    for i in reversed(range(len(array))):\n",
        "        prods[i] *= rightrunningprod\n",
        "        rightrunningprod *= array[i]\n",
        "\n",
        "    return prods\n",
        "\n",
        "# O(n) time | O(n) space - where n is the length of the array"
      ],
      "id": "Z8y1Us9prgnS"
    },
    {
      "cell_type": "code",
      "execution_count": null,
      "metadata": {
        "id": "fWTxanrMrgnT",
        "outputId": "ebd2062c-f5f4-497c-adf4-24b6bd3e85cd"
      },
      "outputs": [
        {
          "data": {
            "text/plain": [
              "[8, 40, 10, 20]"
            ]
          },
          "execution_count": 102,
          "metadata": {},
          "output_type": "execute_result"
        }
      ],
      "source": [
        "array = [5, 1, 4, 2]\n",
        "arrayOfProducts(array)"
      ],
      "id": "fWTxanrMrgnT"
    },
    {
      "cell_type": "code",
      "execution_count": null,
      "metadata": {
        "id": "0xAwUmHHrgnU"
      },
      "outputs": [],
      "source": [],
      "id": "0xAwUmHHrgnU"
    },
    {
      "cell_type": "code",
      "execution_count": null,
      "metadata": {
        "id": "TyX3zCtIrgnU",
        "outputId": "44140398-d265-480e-ad4b-f318cc382212"
      },
      "outputs": [
        {
          "data": {
            "text/plain": [
              "[1, 1, 1, 1]"
            ]
          },
          "execution_count": 95,
          "metadata": {},
          "output_type": "execute_result"
        }
      ],
      "source": [
        "array = [5, 1, 4, 2]\n",
        "\n",
        "prods = [1 for _ in range(len(array))]\n",
        "prods"
      ],
      "id": "TyX3zCtIrgnU"
    },
    {
      "cell_type": "code",
      "execution_count": null,
      "metadata": {
        "id": "JYL_JPoDrgnU",
        "outputId": "e2fb7eb2-0741-4227-ef8e-805506830cde"
      },
      "outputs": [
        {
          "name": "stdout",
          "output_type": "stream",
          "text": [
            "[1, 1, 1, 1]\n",
            "[1, 5, 1, 1]\n",
            "[1, 5, 5, 1]\n",
            "[1, 5, 5, 20]\n"
          ]
        },
        {
          "data": {
            "text/plain": [
              "40"
            ]
          },
          "execution_count": 96,
          "metadata": {},
          "output_type": "execute_result"
        }
      ],
      "source": [
        "\n",
        "leftrunningprod = 1\n",
        "for i in range(len(array)):\n",
        "    prods[i] = leftrunningprod\n",
        "    print(prods)\n",
        "    leftrunningprod *= array[i]\n",
        "\n",
        "leftrunningprod"
      ],
      "id": "JYL_JPoDrgnU"
    },
    {
      "cell_type": "code",
      "execution_count": null,
      "metadata": {
        "id": "xL5u2Iu6rgnV",
        "outputId": "db1ec0f6-dc0b-4101-f22c-97c800d76f30"
      },
      "outputs": [
        {
          "data": {
            "text/plain": [
              "[1, 5, 5, 20]"
            ]
          },
          "execution_count": 97,
          "metadata": {},
          "output_type": "execute_result"
        }
      ],
      "source": [
        "prods"
      ],
      "id": "xL5u2Iu6rgnV"
    },
    {
      "cell_type": "code",
      "execution_count": null,
      "metadata": {
        "id": "sDPdzs7urgnV",
        "outputId": "3608452e-2cab-4f06-898f-a50fe232411e"
      },
      "outputs": [
        {
          "name": "stdout",
          "output_type": "stream",
          "text": [
            "3 [1, 5, 5, 20]\n",
            "2 [1, 5, 10, 20]\n",
            "1 [1, 40, 10, 20]\n",
            "0 [8, 40, 10, 20]\n"
          ]
        }
      ],
      "source": [
        "rightrunningprod = 1\n",
        "for i in reversed(range(len(array))):\n",
        "    prods[i] *= rightrunningprod\n",
        "    print(i,prods)\n",
        "    rightrunningprod *= array[i]"
      ],
      "id": "sDPdzs7urgnV"
    },
    {
      "cell_type": "code",
      "execution_count": null,
      "metadata": {
        "id": "Oq3ct9QBrgnV"
      },
      "outputs": [],
      "source": [],
      "id": "Oq3ct9QBrgnV"
    },
    {
      "cell_type": "code",
      "execution_count": null,
      "metadata": {
        "id": "geycqnSargnV"
      },
      "outputs": [],
      "source": [
        "def mine_arrayOfProducts(array):\n",
        "    # Write your code here.\n",
        "    prods = [0]*len(array)\n",
        "\n",
        "    tprod = 1\n",
        "    nu_zeros = 0\n",
        "    for num in array:\n",
        "        tprod *= num\n",
        "        if num == 0:\n",
        "            nu_zeros +=1\n",
        "    if tprod != 0:\n",
        "        for i in range(len(array)):\n",
        "            prods[i] = int(tprod/array[i])\n",
        "    else:\n",
        "        if nu_zeros == 1:\n",
        "            tprod_ = 1\n",
        "            for nm in array:\n",
        "                if nm !=0:\n",
        "                    tprod_ *= nm\n",
        "            for i in range(len(array)):\n",
        "                if array[i] == 0:\n",
        "                    prods[i] = tprod_\n",
        "\n",
        "\n",
        "    return prods\n"
      ],
      "id": "geycqnSargnV"
    },
    {
      "cell_type": "code",
      "execution_count": null,
      "metadata": {
        "id": "gj-wlnynrgnV",
        "outputId": "b1aa58d5-22ad-4209-ebe5-7be1cf45941b"
      },
      "outputs": [
        {
          "data": {
            "text/plain": [
              "[0, 0, 0, 0, 0, 0, 0, 0, 0, 0, 0]"
            ]
          },
          "execution_count": 110,
          "metadata": {},
          "output_type": "execute_result"
        }
      ],
      "source": [
        "array = [0, 0, 1, 2, 3, 4, 5, 6, 7, 8, 9]\n",
        "mine_arrayOfProducts(array)"
      ],
      "id": "gj-wlnynrgnV"
    },
    {
      "cell_type": "code",
      "execution_count": null,
      "metadata": {
        "id": "ZaMwGPDwrgnW",
        "outputId": "b7ad2311-0fe8-4dfb-e89d-ecf66709f3b2"
      },
      "outputs": [
        {
          "data": {
            "text/plain": [
              "[362880, 0, 0, 0, 0, 0, 0, 0, 0, 0]"
            ]
          },
          "execution_count": 111,
          "metadata": {},
          "output_type": "execute_result"
        }
      ],
      "source": [
        "array = [0, 1, 2, 3, 4, 5, 6, 7, 8, 9]\n",
        "mine_arrayOfProducts(array)"
      ],
      "id": "ZaMwGPDwrgnW"
    },
    {
      "cell_type": "code",
      "execution_count": null,
      "metadata": {
        "id": "I3z76rPKrgnX",
        "outputId": "3a9c7044-de62-4ee4-eeb3-5bad946686d8"
      },
      "outputs": [
        {
          "data": {
            "text/plain": [
              "[1620, 4860, 7290, 14580, 1620, 2916, 4860, 7290]"
            ]
          },
          "execution_count": 112,
          "metadata": {},
          "output_type": "execute_result"
        }
      ],
      "source": [
        "array = [9, 3, 2, 1, 9, 5, 3, 2]\n",
        "mine_arrayOfProducts(array)"
      ],
      "id": "I3z76rPKrgnX"
    },
    {
      "cell_type": "code",
      "execution_count": null,
      "metadata": {
        "id": "wFcWYfI-rgnY"
      },
      "outputs": [],
      "source": [],
      "id": "wFcWYfI-rgnY"
    },
    {
      "cell_type": "markdown",
      "metadata": {
        "id": "ClHmjpFDrgnY"
      },
      "source": [
        "# 11.] First Duplicate Value"
      ],
      "id": "ClHmjpFDrgnY"
    },
    {
      "cell_type": "code",
      "execution_count": null,
      "metadata": {
        "id": "kfZkZnCprgnY"
      },
      "outputs": [],
      "source": [
        "def firstDuplicateValue(array):\n",
        "    # Write your code here.\n",
        "    seen = set()\n",
        "\n",
        "    for val in array:\n",
        "        if val in seen:\n",
        "            return val\n",
        "        seen.add(val)\n",
        "    return -1"
      ],
      "id": "kfZkZnCprgnY"
    },
    {
      "cell_type": "code",
      "execution_count": null,
      "metadata": {
        "id": "F3KyejlNrgnZ",
        "outputId": "390c1e1b-89cc-46f1-a359-942980f392b7"
      },
      "outputs": [
        {
          "data": {
            "text/plain": [
              "25"
            ]
          },
          "execution_count": 104,
          "metadata": {},
          "output_type": "execute_result"
        }
      ],
      "source": [
        "array = [23, 25, 9, 26, 2, 19, 24, 18, 25, 17, 13, 3, 14, 17, 9, 20, 26, 15, 21, 2, 6, 11, 2, 12, 23, 5, 4, 20]\n",
        "firstDuplicateValue(array)"
      ],
      "id": "F3KyejlNrgnZ"
    },
    {
      "cell_type": "code",
      "execution_count": null,
      "metadata": {
        "id": "ufr8r9WPrgnZ"
      },
      "outputs": [],
      "source": [],
      "id": "ufr8r9WPrgnZ"
    },
    {
      "cell_type": "markdown",
      "metadata": {
        "id": "CJDtOv2DrgnZ"
      },
      "source": [
        "# 12.]"
      ],
      "id": "CJDtOv2DrgnZ"
    },
    {
      "cell_type": "code",
      "execution_count": null,
      "metadata": {
        "id": "anuERHjxrgnZ"
      },
      "outputs": [],
      "source": [],
      "id": "anuERHjxrgnZ"
    },
    {
      "cell_type": "code",
      "execution_count": null,
      "metadata": {
        "id": "8zYt2vQjrgnZ"
      },
      "outputs": [],
      "source": [],
      "id": "8zYt2vQjrgnZ"
    },
    {
      "cell_type": "code",
      "execution_count": null,
      "metadata": {
        "id": "CUNaQ-EFrgnZ"
      },
      "outputs": [],
      "source": [],
      "id": "CUNaQ-EFrgnZ"
    },
    {
      "cell_type": "code",
      "execution_count": null,
      "metadata": {
        "id": "r_BkJgeErgna"
      },
      "outputs": [],
      "source": [],
      "id": "r_BkJgeErgna"
    },
    {
      "cell_type": "code",
      "execution_count": null,
      "metadata": {
        "id": "vczalVL9rgna"
      },
      "outputs": [],
      "source": [],
      "id": "vczalVL9rgna"
    },
    {
      "cell_type": "code",
      "execution_count": null,
      "metadata": {
        "id": "tp44D2Udrgna"
      },
      "outputs": [],
      "source": [],
      "id": "tp44D2Udrgna"
    },
    {
      "cell_type": "code",
      "execution_count": null,
      "metadata": {
        "id": "CNBq05y3rgna"
      },
      "outputs": [],
      "source": [],
      "id": "CNBq05y3rgna"
    },
    {
      "cell_type": "code",
      "execution_count": null,
      "metadata": {
        "id": "f00Ht3oCrgna"
      },
      "outputs": [],
      "source": [],
      "id": "f00Ht3oCrgna"
    },
    {
      "cell_type": "code",
      "execution_count": null,
      "metadata": {
        "id": "k2s-ROKRrgna"
      },
      "outputs": [],
      "source": [],
      "id": "k2s-ROKRrgna"
    },
    {
      "cell_type": "code",
      "execution_count": null,
      "metadata": {
        "id": "jP-1Q330rgnb"
      },
      "outputs": [],
      "source": [],
      "id": "jP-1Q330rgnb"
    },
    {
      "cell_type": "code",
      "execution_count": null,
      "metadata": {
        "id": "UW8aKRGvrgnb"
      },
      "outputs": [],
      "source": [],
      "id": "UW8aKRGvrgnb"
    }
  ],
  "metadata": {
    "kernelspec": {
      "display_name": "Python 3",
      "language": "python",
      "name": "python3"
    },
    "language_info": {
      "codemirror_mode": {
        "name": "ipython",
        "version": 3
      },
      "file_extension": ".py",
      "mimetype": "text/x-python",
      "name": "python",
      "nbconvert_exporter": "python",
      "pygments_lexer": "ipython3",
      "version": "3.8.3"
    },
    "colab": {
      "provenance": []
    }
  },
  "nbformat": 4,
  "nbformat_minor": 5
}
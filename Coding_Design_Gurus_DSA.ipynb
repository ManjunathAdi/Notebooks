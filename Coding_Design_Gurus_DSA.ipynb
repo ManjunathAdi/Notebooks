{
  "cells": [
    {
      "cell_type": "code",
      "execution_count": null,
      "metadata": {
        "id": "a5ZzUrx5S_eR",
        "outputId": "75aa7b96-f6fd-405a-ed9f-450f5602f44c"
      },
      "outputs": [
        {
          "name": "stdout",
          "output_type": "stream",
          "text": [
            "Bhagavan Mahamrityunjaya\n"
          ]
        }
      ],
      "source": [
        "print('Bhagavan Mahamrityunjaya')"
      ],
      "id": "a5ZzUrx5S_eR"
    },
    {
      "cell_type": "code",
      "execution_count": null,
      "metadata": {
        "id": "EPUISV4lTAZm"
      },
      "outputs": [],
      "source": [],
      "id": "EPUISV4lTAZm"
    },
    {
      "cell_type": "markdown",
      "metadata": {
        "id": "tBne4psfTAaK"
      },
      "source": [
        "# 1.] Best time to buy and sell stock"
      ],
      "id": "tBne4psfTAaK"
    },
    {
      "cell_type": "markdown",
      "metadata": {
        "id": "qf9g--qNTAx8"
      },
      "source": [
        "Type I: At most one transaction is allowed\n",
        "\n",
        "Given an array prices[] of length N, representing the prices of the stocks on different days, the task is to find the maximum profit possible for buying and selling the stocks on different days using transactions where at most one transaction is allowed.\n",
        "\n",
        "Note: Stock must be bought before being sold."
      ],
      "id": "qf9g--qNTAx8"
    },
    {
      "cell_type": "markdown",
      "metadata": {
        "id": "G2MxlAzBTA4B"
      },
      "source": [
        ""
      ],
      "id": "G2MxlAzBTA4B"
    },
    {
      "cell_type": "markdown",
      "metadata": {
        "id": "xqnT6RlKTA5l"
      },
      "source": [
        "This problem can be solved using the greedy approach. To maximize the profit we have to minimize the buy cost and we have to sell it at maximum price.\n",
        "Follow the steps below to implement the above idea:\n",
        "\n",
        "- Declare a buy variable to store the buy cost and max_profit to store the maximum profit.\n",
        "- Initialize the buy variable to the first element of the prices array.\n",
        "- Iterate over the prices array and check if the current price is minimum or not.\n",
        "    - If the current price is minimum then buy on this ith day.\n",
        "    - If the current price is greater than the previous buy then make profit from it and maximize the max_profit.\n",
        "- Finally, return the max_profit."
      ],
      "id": "xqnT6RlKTA5l"
    },
    {
      "cell_type": "code",
      "execution_count": null,
      "metadata": {
        "id": "pPNoqGZMTA8g",
        "outputId": "4d9fa22e-fbb6-40b4-8011-5608727e32e4"
      },
      "outputs": [
        {
          "name": "stdout",
          "output_type": "stream",
          "text": [
            "5\n",
            "0\n",
            "2\n",
            "4\n",
            "4\n"
          ]
        }
      ],
      "source": [
        "class Solution:\n",
        "    def maxProfit(self, prices):\n",
        "        buy = prices[0]\n",
        "        max_profit = 0\n",
        "        for i in range(1, len(prices)):\n",
        "\n",
        "            # Checking for lower buy value\n",
        "            if (buy > prices[i]):\n",
        "                buy = prices[i]\n",
        "\n",
        "            # Checking for higher profit\n",
        "            elif (prices[i] - buy) > max_profit:\n",
        "                max_profit = prices[i] - buy\n",
        "        return max_profit\n",
        "\n",
        "#Time Complexity: O(N). Where N is the size of prices array.\n",
        "#Auxiliary Space: O(1). We do not use any extra space.\n",
        "\n",
        "if __name__ == '__main__':\n",
        "  prices1 = [7, 1, 5, 3, 6, 4]\n",
        "  print(Solution().maxProfit(prices1)) # 5\n",
        "\n",
        "  prices2 = [7, 6, 4, 3, 1]\n",
        "  print(Solution().maxProfit(prices2)) # 0\n",
        "\n",
        "  prices3 = [2, 4, 1]\n",
        "  print(Solution().maxProfit(prices3)) # 2\n",
        "\n",
        "  prices4 = [3, 2, 6, 5, 0, 3]\n",
        "  print(Solution().maxProfit(prices4)) # 4\n",
        "\n",
        "  prices5 = [1, 2, 3, 4, 5]\n",
        "  print(Solution().maxProfit(prices5)) # 4"
      ],
      "id": "pPNoqGZMTA8g"
    },
    {
      "cell_type": "code",
      "execution_count": null,
      "metadata": {
        "id": "--y_KNG3TBAa"
      },
      "outputs": [],
      "source": [],
      "id": "--y_KNG3TBAa"
    },
    {
      "cell_type": "markdown",
      "metadata": {
        "id": "l73nh7IYTBBh"
      },
      "source": [
        "# 2.]"
      ],
      "id": "l73nh7IYTBBh"
    },
    {
      "cell_type": "code",
      "execution_count": null,
      "metadata": {
        "id": "ra1LwMv4TBCB"
      },
      "outputs": [],
      "source": [],
      "id": "ra1LwMv4TBCB"
    },
    {
      "cell_type": "code",
      "execution_count": null,
      "metadata": {
        "id": "nNRDpMOtTBDc",
        "outputId": "bb5bb036-5d58-4320-f792-9263a7fd595b"
      },
      "outputs": [
        {
          "name": "stdout",
          "output_type": "stream",
          "text": [
            "4\n"
          ]
        }
      ],
      "source": [
        "def find_single_number(arr):\n",
        "  num = 0\n",
        "  for i in arr:\n",
        "      num ^= i\n",
        "  return num\n",
        "\n",
        "def main():\n",
        "    arr = [1, 4, 2, 1, 3, 2, 3]\n",
        "    print(find_single_number(arr))\n",
        "\n",
        "main()\n"
      ],
      "id": "nNRDpMOtTBDc"
    },
    {
      "cell_type": "code",
      "execution_count": null,
      "metadata": {
        "id": "s0BzZXvDTBEO",
        "outputId": "fecf9b63-55eb-4c91-a662-55d962279d38"
      },
      "outputs": [
        {
          "name": "stdout",
          "output_type": "stream",
          "text": [
            "1 1\n",
            "4 5\n",
            "2 7\n",
            "1 6\n",
            "3 5\n",
            "2 7\n",
            "3 4\n"
          ]
        },
        {
          "data": {
            "text/plain": [
              "4"
            ]
          },
          "execution_count": 12,
          "metadata": {},
          "output_type": "execute_result"
        }
      ],
      "source": [
        "arr = [1, 4, 2, 1, 3, 2, 3]\n",
        "num = 0\n",
        "for i in arr:\n",
        "    num ^= i\n",
        "    print(i,num)\n",
        "\n",
        "num"
      ],
      "id": "s0BzZXvDTBEO"
    },
    {
      "cell_type": "code",
      "execution_count": null,
      "metadata": {
        "id": "QxVFQoRxTBGM"
      },
      "outputs": [],
      "source": [],
      "id": "QxVFQoRxTBGM"
    },
    {
      "cell_type": "code",
      "execution_count": null,
      "metadata": {
        "id": "GcIlyezvTBGN",
        "outputId": "95456ee3-0980-48d5-daae-9ebfc0dd665d"
      },
      "outputs": [
        {
          "data": {
            "text/plain": [
              "[1, 4, 2, 1, 3, 2, 3]"
            ]
          },
          "execution_count": 13,
          "metadata": {},
          "output_type": "execute_result"
        }
      ],
      "source": [
        "arr"
      ],
      "id": "GcIlyezvTBGN"
    },
    {
      "cell_type": "code",
      "execution_count": null,
      "metadata": {
        "id": "sbkJe2KFTBGe",
        "outputId": "ed840f5d-1dd5-4d7e-9d87-a74990e5ec32"
      },
      "outputs": [
        {
          "name": "stdout",
          "output_type": "stream",
          "text": [
            "[1, 4, 2, 1, 2, 3]\n",
            "[1, 4, 2, 1, 2]\n"
          ]
        }
      ],
      "source": [
        "\n",
        "for num in arr:\n",
        "    if num == 3:\n",
        "        arr.remove(3)\n",
        "        print(arr)"
      ],
      "id": "sbkJe2KFTBGe"
    },
    {
      "cell_type": "code",
      "execution_count": null,
      "metadata": {
        "id": "VLLUPrg6TBI2"
      },
      "outputs": [],
      "source": [],
      "id": "VLLUPrg6TBI2"
    },
    {
      "cell_type": "markdown",
      "metadata": {
        "id": "d2yjq_27TBKx"
      },
      "source": [
        "# 3.] count number of Islands"
      ],
      "id": "d2yjq_27TBKx"
    },
    {
      "cell_type": "markdown",
      "metadata": {
        "id": "GnajnINBTBLZ"
      },
      "source": [
        " DFS\n",
        "\n",
        "\n",
        " Time Complexity\n",
        "Time complexity of the above algorithm will be O( M * N ) , where ‘M’ is the number of rows and 'N' is the number of columns of the input matrix. This is due to the fact that we have to traverse the whole matrix to find the islands.\n",
        "\n",
        "Space Complexity\n",
        "DFS recursion stack can go M * N deep when the whole matrix is filled with '1's.\n",
        "Hence, the space complexity will be O( M * N ), where ‘M’ is the number of rows and 'N' is the number of columns of the input matrix.\n",
        "\n"
      ],
      "id": "GnajnINBTBLZ"
    },
    {
      "cell_type": "code",
      "execution_count": null,
      "metadata": {
        "id": "YDSgLWCQTBMF"
      },
      "outputs": [],
      "source": [],
      "id": "YDSgLWCQTBMF"
    },
    {
      "cell_type": "code",
      "execution_count": null,
      "metadata": {
        "scrolled": false,
        "id": "S5WWBIJETBOt",
        "outputId": "27931fa1-9400-4081-aee3-654bf8ddb55f"
      },
      "outputs": [
        {
          "name": "stdout",
          "output_type": "stream",
          "text": [
            "Island counted 0 1 ***************************\n",
            "1\n",
            "lower cell 0 1\n",
            "1 1 returning bcoz of water cell\n",
            "upper cell 0 1\n",
            "-1 1 returning bcoz out of bound\n",
            "right cell 0 1\n",
            "1\n",
            "lower cell 0 2\n",
            "1 2 returning bcoz of water cell\n",
            "upper cell 0 2\n",
            "-1 2 returning bcoz out of bound\n",
            "right cell 0 2\n",
            "1\n",
            "lower cell 0 3\n",
            "1\n",
            "lower cell 1 3\n",
            "1\n",
            "lower cell 2 3\n",
            "3 3 returning bcoz of water cell\n",
            "upper cell 2 3\n",
            "1 3 returning bcoz of water cell\n",
            "right cell 2 3\n",
            "2 4 returning bcoz of water cell\n",
            "left cell 2 3\n",
            "1\n",
            "lower cell 2 2\n",
            "1\n",
            "lower cell 3 2\n",
            "4 2 returning bcoz of water cell\n",
            "upper cell 3 2\n",
            "2 2 returning bcoz of water cell\n",
            "right cell 3 2\n",
            "3 3 returning bcoz of water cell\n",
            "left cell 3 2\n",
            "1\n",
            "lower cell 3 1\n",
            "4 1 returning bcoz of water cell\n",
            "upper cell 3 1\n",
            "1\n",
            "lower cell 2 1\n",
            "3 1 returning bcoz of water cell\n",
            "upper cell 2 1\n",
            "1 1 returning bcoz of water cell\n",
            "right cell 2 1\n",
            "2 2 returning bcoz of water cell\n",
            "left cell 2 1\n",
            "2 0 returning bcoz of water cell\n",
            "right cell 3 1\n",
            "3 2 returning bcoz of water cell\n",
            "left cell 3 1\n",
            "3 0 returning bcoz of water cell\n",
            "upper cell 2 2\n",
            "1 2 returning bcoz of water cell\n",
            "right cell 2 2\n",
            "2 3 returning bcoz of water cell\n",
            "left cell 2 2\n",
            "2 1 returning bcoz of water cell\n",
            "upper cell 1 3\n",
            "0 3 returning bcoz of water cell\n",
            "right cell 1 3\n",
            "1\n",
            "lower cell 1 4\n",
            "2 4 returning bcoz of water cell\n",
            "upper cell 1 4\n",
            "0 4 returning bcoz of water cell\n",
            "right cell 1 4\n",
            "1 5 returning bcoz out of bound\n",
            "left cell 1 4\n",
            "1 3 returning bcoz of water cell\n",
            "left cell 1 3\n",
            "1 2 returning bcoz of water cell\n",
            "upper cell 0 3\n",
            "-1 3 returning bcoz out of bound\n",
            "right cell 0 3\n",
            "0 4 returning bcoz of water cell\n",
            "left cell 0 3\n",
            "0 2 returning bcoz of water cell\n",
            "left cell 0 2\n",
            "0 1 returning bcoz of water cell\n",
            "left cell 0 1\n",
            "0 0 returning bcoz of water cell\n",
            "1\n",
            "\n",
            "\n",
            "\n",
            "\n",
            "\n",
            "\n",
            "\n",
            "Island counted 0 0 ***************************\n",
            "1\n",
            "lower cell 0 0\n",
            "1 0 returning bcoz of water cell\n",
            "upper cell 0 0\n",
            "-1 0 returning bcoz out of bound\n",
            "right cell 0 0\n",
            "1\n",
            "lower cell 0 1\n",
            "1\n",
            "lower cell 1 1\n",
            "2 1 returning bcoz of water cell\n",
            "upper cell 1 1\n",
            "0 1 returning bcoz of water cell\n",
            "right cell 1 1\n",
            "1 2 returning bcoz of water cell\n",
            "left cell 1 1\n",
            "1 0 returning bcoz of water cell\n",
            "upper cell 0 1\n",
            "-1 1 returning bcoz out of bound\n",
            "right cell 0 1\n",
            "1\n",
            "lower cell 0 2\n",
            "1 2 returning bcoz of water cell\n",
            "upper cell 0 2\n",
            "-1 2 returning bcoz out of bound\n",
            "right cell 0 2\n",
            "0 3 returning bcoz of water cell\n",
            "left cell 0 2\n",
            "0 1 returning bcoz of water cell\n",
            "left cell 0 1\n",
            "0 0 returning bcoz of water cell\n",
            "left cell 0 0\n",
            "0 -1 returning bcoz out of bound\n",
            "Island counted 1 4 ***************************\n",
            "1\n",
            "lower cell 1 4\n",
            "2 4 returning bcoz of water cell\n",
            "upper cell 1 4\n",
            "0 4 returning bcoz of water cell\n",
            "right cell 1 4\n",
            "1 5 returning bcoz out of bound\n",
            "left cell 1 4\n",
            "1 3 returning bcoz of water cell\n",
            "Island counted 2 2 ***************************\n",
            "1\n",
            "lower cell 2 2\n",
            "1\n",
            "lower cell 3 2\n",
            "1\n",
            "lower cell 4 2\n",
            "5 2 returning bcoz out of bound\n",
            "upper cell 4 2\n",
            "3 2 returning bcoz of water cell\n",
            "right cell 4 2\n",
            "4 3 returning bcoz of water cell\n",
            "left cell 4 2\n",
            "4 1 returning bcoz of water cell\n",
            "upper cell 3 2\n",
            "2 2 returning bcoz of water cell\n",
            "right cell 3 2\n",
            "3 3 returning bcoz of water cell\n",
            "left cell 3 2\n",
            "3 1 returning bcoz of water cell\n",
            "upper cell 2 2\n",
            "1 2 returning bcoz of water cell\n",
            "right cell 2 2\n",
            "1\n",
            "lower cell 2 3\n",
            "3 3 returning bcoz of water cell\n",
            "upper cell 2 3\n",
            "1 3 returning bcoz of water cell\n",
            "right cell 2 3\n",
            "2 4 returning bcoz of water cell\n",
            "left cell 2 3\n",
            "2 2 returning bcoz of water cell\n",
            "left cell 2 2\n",
            "2 1 returning bcoz of water cell\n",
            "3\n"
          ]
        }
      ],
      "source": [
        "def countIslandsDFS(matrix):\n",
        "    rows = len(matrix)\n",
        "    cols = len(matrix[0])\n",
        "    totalIslands = 0\n",
        "\n",
        "    for i in range(rows):\n",
        "        for j in range(cols):\n",
        "            if (matrix[i][j] == 1):  # only if the cell is a land\n",
        "                # we have found an island\n",
        "                totalIslands += 1\n",
        "                print(\"Island counted\", i, j, \"***************************\")\n",
        "                visitIslandDFS(matrix, i, j)\n",
        "    return totalIslands\n",
        "\n",
        "\n",
        "def visitIslandDFS(matrix,  x,  y):\n",
        "    #print(x,y)\n",
        "    if (x < 0 or x >= len(matrix) or y < 0 or y >= len(matrix[0])):\n",
        "        print(x,y,\"returning bcoz out of bound\")\n",
        "        return  # return, if it is not a valid cell\n",
        "    if (matrix[x][y] == 0):\n",
        "        print(x,y,\"returning bcoz of water cell\")\n",
        "        return  # return, if it is a water cell\n",
        "\n",
        "    print(matrix[x][y])\n",
        "    matrix[x][y] = 0  # mark the cell visited by making it a water cell\n",
        "\n",
        "    # recursively visit all neighboring cells (horizontally & vertically)\n",
        "    print(\"lower cell\", x, y)\n",
        "    visitIslandDFS(matrix, x + 1, y)  # lower cell\n",
        "    print(\"upper cell\",x,y)\n",
        "    visitIslandDFS(matrix, x - 1, y)  # upper cell\n",
        "    print(\"right cell\",x,y)\n",
        "    visitIslandDFS(matrix, x, y + 1)  # right cell\n",
        "    print(\"left cell\",x,y)\n",
        "    visitIslandDFS(matrix, x, y - 1)  # left cell\n",
        "\n",
        "\n",
        "def main():\n",
        "    print(countIslandsDFS([[0, 1, 1, 1, 0], [0, 0, 0, 1, 1], [\n",
        "          0, 1, 1, 1, 0], [0, 1, 1, 0, 0], [0, 0, 0, 0, 0]]))\n",
        "    print(\"\\n\\n\\n\\n\\n\\n\")\n",
        "    print(countIslandsDFS([[1, 1, 1, 0, 0], [0, 1, 0, 0, 1], [\n",
        "          0, 0, 1, 1, 0], [0, 0, 1, 0, 0], [0, 0, 1, 0, 0]]))\n",
        "\n",
        "\n",
        "main()"
      ],
      "id": "S5WWBIJETBOt"
    },
    {
      "cell_type": "code",
      "execution_count": null,
      "metadata": {
        "id": "R9y-Vd8qTBPr"
      },
      "outputs": [],
      "source": [],
      "id": "R9y-Vd8qTBPr"
    },
    {
      "cell_type": "markdown",
      "metadata": {
        "id": "rUTKDLO6TBPy"
      },
      "source": [
        "BFS\n",
        "\n",
        "\n",
        "Time Complexity\n",
        "Time complexity of the above algorithm will be O( M * N ), where ‘M’ is the number of rows and 'N' is the number of columns.\n",
        "\n",
        "Space Complexity\n",
        "Space complexity of the above algorithm will be O(min(M,N). In the worst case, when the matrix is completely filled with land cells, the size of the queue can grow up to min(M,N).\n",
        "\n"
      ],
      "id": "rUTKDLO6TBPy"
    },
    {
      "cell_type": "code",
      "execution_count": null,
      "metadata": {
        "scrolled": true,
        "id": "twCU_rThTBQB",
        "outputId": "1bd175f2-55b1-4384-a4fa-1c55c2d9c9ba"
      },
      "outputs": [
        {
          "name": "stdout",
          "output_type": "stream",
          "text": [
            "1\n",
            "3\n"
          ]
        }
      ],
      "source": [
        "from collections import deque\n",
        "\n",
        "\n",
        "def countIslandsBFS(matrix):\n",
        "    rows = len(matrix)\n",
        "    cols = len(matrix[0])\n",
        "    totalIslands = 0\n",
        "\n",
        "    for i in range(rows):\n",
        "        for j in range(cols):\n",
        "            if (matrix[i][j] == 1):  # only if the cell is a land\n",
        "                # we have found an island\n",
        "                totalIslands += 1\n",
        "                visitIslandBFS(matrix, i, j)\n",
        "    return totalIslands\n",
        "\n",
        "\n",
        "def visitIslandBFS(matrix,  x,  y):\n",
        "    neighbors = deque([(x, y)])\n",
        "    while neighbors:\n",
        "        row, col = neighbors.popleft()\n",
        "\n",
        "        if row < 0 or row >= len(matrix) or col < 0 or col >= len(matrix[0]):\n",
        "            continue  # continue, if it is not a valid cell\n",
        "        if matrix[row][col] == 0:\n",
        "            continue  # continue if it is a water cell\n",
        "\n",
        "        matrix[row][col] = 0  # mark the cell visited by making it a water cell\n",
        "\n",
        "        # insert all neighboring cells to the queue for BFS\n",
        "        neighbors.extend([(row + 1, col)])  # lower cell\n",
        "        neighbors.extend([(row - 1, col)])  # upper cell\n",
        "        neighbors.extend([(row, col + 1)])  # right cell\n",
        "        neighbors.extend([(row, col - 1)])  # left cell\n",
        "\n",
        "\n",
        "def main():\n",
        "    print(countIslandsBFS([[0, 1, 1, 1, 0], [0, 0, 0, 1, 1], [\n",
        "          0, 1, 1, 1, 0], [0, 1, 1, 0, 0], [0, 0, 0, 0, 0]]))\n",
        "    print(countIslandsBFS([[1, 1, 1, 0, 0], [0, 1, 0, 0, 1], [\n",
        "          0, 0, 1, 1, 0], [0, 0, 1, 0, 0], [0, 0, 1, 0, 0]]))\n",
        "\n",
        "\n",
        "main()"
      ],
      "id": "twCU_rThTBQB"
    },
    {
      "cell_type": "code",
      "execution_count": null,
      "metadata": {
        "id": "m2vTPdCKTBQg"
      },
      "outputs": [],
      "source": [],
      "id": "m2vTPdCKTBQg"
    },
    {
      "cell_type": "code",
      "execution_count": null,
      "metadata": {
        "id": "bHNexuhSTBRI"
      },
      "outputs": [],
      "source": [],
      "id": "bHNexuhSTBRI"
    },
    {
      "cell_type": "markdown",
      "metadata": {
        "id": "mVFzdCcpTBRI"
      },
      "source": [
        "# 4.] Biggest Island"
      ],
      "id": "mVFzdCcpTBRI"
    },
    {
      "cell_type": "code",
      "execution_count": null,
      "metadata": {
        "id": "Wktx9pVhTBRL"
      },
      "outputs": [],
      "source": [],
      "id": "Wktx9pVhTBRL"
    },
    {
      "cell_type": "code",
      "execution_count": null,
      "metadata": {
        "id": "uJAb8QiiTBRv",
        "outputId": "0eb6f68e-0de7-4e3c-9cdb-70eaa2878fe3"
      },
      "outputs": [
        {
          "name": "stdout",
          "output_type": "stream",
          "text": [
            "5\n"
          ]
        }
      ],
      "source": [
        "def maxAreaIslandDFS(matrix):\n",
        "    rows = len(matrix)\n",
        "    cols = len(matrix[0])\n",
        "    biggestIslandArea = 0\n",
        "\n",
        "    for i in range(rows):\n",
        "        for j in range(cols):\n",
        "            if (matrix[i][j] == 1):  # only if the cell is a land\n",
        "                # we have found an island\n",
        "                biggestIslandArea = max(\n",
        "                    biggestIslandArea, visitIslandDFS(matrix, i, j))\n",
        "\n",
        "    return biggestIslandArea\n",
        "\n",
        "\n",
        "def visitIslandDFS(matrix,  x,  y):\n",
        "    if (x < 0 or x >= len(matrix) or y < 0 or y >= len(matrix[0])):\n",
        "        return 0  # return, if it is not a valid cell\n",
        "    if (matrix[x][y] == 0):\n",
        "        return 0  # return, if it is a water cell\n",
        "\n",
        "    matrix[x][y] = 0  # mark the cell visited by making it a water cell\n",
        "\n",
        "    area = 1 # counting the current cell\n",
        "    # recursively visit all neighboring cells (horizontally & vertically)\n",
        "    area += visitIslandDFS(matrix, x + 1, y)  # lower cell\n",
        "    area += visitIslandDFS(matrix, x - 1, y)  # upper cell\n",
        "    area += visitIslandDFS(matrix, x, y + 1)  # right cell\n",
        "    area += visitIslandDFS(matrix, x, y - 1)  # left cell\n",
        "    return area\n",
        "\n",
        "\n",
        "def main():\n",
        "    print(maxAreaIslandDFS([[1, 1, 1, 0, 0], [0, 1, 0, 0, 1], [\n",
        "          0, 0, 1, 1, 0], [0, 1, 1, 0, 0], [0, 0, 1, 0, 0]]))\n",
        "\n",
        "\n",
        "main()"
      ],
      "id": "uJAb8QiiTBRv"
    },
    {
      "cell_type": "code",
      "execution_count": null,
      "metadata": {
        "id": "T-y6ZL_aTBUf"
      },
      "outputs": [],
      "source": [],
      "id": "T-y6ZL_aTBUf"
    },
    {
      "cell_type": "markdown",
      "metadata": {
        "id": "usqwnCzATBVT"
      },
      "source": [
        "# 5.] Flood fill"
      ],
      "id": "usqwnCzATBVT"
    },
    {
      "cell_type": "code",
      "execution_count": null,
      "metadata": {
        "id": "WmiVFqiTTBWV",
        "outputId": "ca287241-644c-47b5-a6d5-52e059b74c5a"
      },
      "outputs": [
        {
          "name": "stdout",
          "output_type": "stream",
          "text": [
            "[[0, 2, 2, 2, 0], [0, 0, 0, 2, 2], [0, 2, 2, 2, 0], [0, 2, 2, 0, 0], [0, 0, 0, 0, 0]]\n",
            "[[0, 0, 0, 0, 0], [0, 0, 0, 0, 0], [0, 0, 5, 5, 0], [0, 0, 5, 0, 0], [0, 0, 5, 0, 0]]\n"
          ]
        }
      ],
      "source": [
        "def floodFill(matrix, x, y, newColor):\n",
        "    if matrix[x][y] != newColor:\n",
        "        fillDFS(matrix, x, y, matrix[x][y], newColor)\n",
        "    return matrix\n",
        "\n",
        "\n",
        "def fillDFS(matrix,  x,  y, oldColor, newColor):\n",
        "    if x < 0 or x >= len(matrix) or y < 0 or y >= len(matrix[0]):\n",
        "        return  # return, if it is not a valid cell\n",
        "    if matrix[x][y] != oldColor:\n",
        "        return  # return, if it is not the required color\n",
        "\n",
        "    matrix[x][y] = newColor  # // update the cell to the new color\n",
        "\n",
        "    # recursively visit all neighboring cells (horizontally & vertically)\n",
        "    fillDFS(matrix, x + 1, y, oldColor, newColor)  # lower cell\n",
        "    fillDFS(matrix, x - 1, y, oldColor, newColor)  # upper cell\n",
        "    fillDFS(matrix, x, y + 1, oldColor, newColor)  # right cell\n",
        "    fillDFS(matrix, x, y - 1, oldColor, newColor)  # left cell\n",
        "\n",
        "\n",
        "def main():\n",
        "    print(floodFill([[0, 1, 1, 1, 0], [0, 0, 0, 1, 1], [\n",
        "          0, 1, 1, 1, 0], [0, 1, 1, 0, 0], [0, 0, 0, 0, 0]], 1, 3, 2))\n",
        "    print(floodFill([[0, 0, 0, 0, 0], [0, 0, 0, 0, 0], [\n",
        "          0, 0, 1, 1, 0], [0, 0, 1, 0, 0], [0, 0, 1, 0, 0]], 3, 2, 5))\n",
        "\n",
        "\n",
        "main()"
      ],
      "id": "WmiVFqiTTBWV"
    },
    {
      "cell_type": "code",
      "execution_count": null,
      "metadata": {
        "id": "MHMZ6bJbTBXL"
      },
      "outputs": [],
      "source": [],
      "id": "MHMZ6bJbTBXL"
    },
    {
      "cell_type": "markdown",
      "metadata": {
        "id": "_MNAVn6PTBYn"
      },
      "source": [
        "# 6.] Closed Island"
      ],
      "id": "_MNAVn6PTBYn"
    },
    {
      "cell_type": "code",
      "execution_count": null,
      "metadata": {
        "id": "n9utBSZVTBcp"
      },
      "outputs": [],
      "source": [],
      "id": "n9utBSZVTBcp"
    },
    {
      "cell_type": "code",
      "execution_count": null,
      "metadata": {
        "id": "1fWpCbJZTBd1",
        "outputId": "e8d5c4b0-d308-4233-9c71-e688accb6e2e"
      },
      "outputs": [
        {
          "name": "stdout",
          "output_type": "stream",
          "text": [
            "1\n",
            "2\n"
          ]
        }
      ],
      "source": [
        "def countClosedIslandsDFS(matrix):\n",
        "    rows = len(matrix)\n",
        "    cols = len(matrix[0])\n",
        "    visited = [[False for i in range(cols)] for j in range(rows)]\n",
        "    countClosedIslands = 0\n",
        "\n",
        "    for i in range(rows):\n",
        "        for j in range(cols):\n",
        "            # only if the cell is a land and not visited\n",
        "            if (matrix[i][j] == 1 and not visited[i][j]):\n",
        "                if isClosedIslandDFS(matrix, visited, i, j):\n",
        "                    countClosedIslands += 1\n",
        "\n",
        "    return countClosedIslands\n",
        "\n",
        "\n",
        "def isClosedIslandDFS(matrix,  visited, x,  y):\n",
        "    if (x < 0 or x >= len(matrix) or y < 0 or y >= len(matrix[0])):\n",
        "        return False  # returning false since the island is touching an edge\n",
        "    if (matrix[x][y] == 0 or visited[x][y]):\n",
        "        return True  # returning true as the island is surrounded by water\n",
        "\n",
        "    visited[x][y] = True  # mark the cell visited\n",
        "\n",
        "    isClosed = True\n",
        "    # recursively visit all neighboring cells (horizontally & vertically)\n",
        "    isClosed &= isClosedIslandDFS(matrix, visited, x + 1, y)  # lower cell\n",
        "    isClosed &= isClosedIslandDFS(matrix, visited, x - 1, y)  # upper cell\n",
        "    isClosed &= isClosedIslandDFS(matrix, visited, x, y + 1)  # right cell\n",
        "    isClosed &= isClosedIslandDFS(matrix, visited, x, y - 1)  # left cell\n",
        "\n",
        "    return isClosed\n",
        "\n",
        "\n",
        "def main():\n",
        "    print(countClosedIslandsDFS([[1, 1, 0, 0, 0], [0, 1, 0, 0, 0], [\n",
        "          0, 0, 1, 1, 0], [0, 1, 1, 0, 0], [0, 0, 0, 0, 0]]))\n",
        "\n",
        "    print(countClosedIslandsDFS([[0, 0, 0, 0], [0, 1, 0, 0], [\n",
        "          0, 1, 0, 0], [0, 0, 1, 0], [0, 0, 0, 0]]))\n",
        "\n",
        "\n",
        "main()"
      ],
      "id": "1fWpCbJZTBd1"
    },
    {
      "cell_type": "code",
      "execution_count": null,
      "metadata": {
        "id": "P70PkTyZTBe1"
      },
      "outputs": [],
      "source": [],
      "id": "P70PkTyZTBe1"
    },
    {
      "cell_type": "markdown",
      "metadata": {
        "id": "W89g9NabTBe_"
      },
      "source": [
        "# 7.]"
      ],
      "id": "W89g9NabTBe_"
    },
    {
      "cell_type": "code",
      "execution_count": null,
      "metadata": {
        "id": "Np8VGgZkTBfO"
      },
      "outputs": [],
      "source": [],
      "id": "Np8VGgZkTBfO"
    },
    {
      "cell_type": "code",
      "execution_count": null,
      "metadata": {
        "id": "rRrDxrnPTBfV"
      },
      "outputs": [],
      "source": [],
      "id": "rRrDxrnPTBfV"
    },
    {
      "cell_type": "code",
      "execution_count": null,
      "metadata": {
        "id": "GNcybdGTTBpk"
      },
      "outputs": [],
      "source": [],
      "id": "GNcybdGTTBpk"
    },
    {
      "cell_type": "code",
      "execution_count": null,
      "metadata": {
        "id": "5bvXlnw-TBs3"
      },
      "outputs": [],
      "source": [],
      "id": "5bvXlnw-TBs3"
    },
    {
      "cell_type": "code",
      "execution_count": null,
      "metadata": {
        "id": "Sj91KeDHTBvh"
      },
      "outputs": [],
      "source": [],
      "id": "Sj91KeDHTBvh"
    },
    {
      "cell_type": "code",
      "execution_count": null,
      "metadata": {
        "id": "JAg12n3aTBwC"
      },
      "outputs": [],
      "source": [
        "All the six cobblestone values and what is in the offer listed are of high significance for any individual who is looking for career growth. Along with this I liked the responsibilities and I feel myself a good match to this position because of the good match I see with the requirements for data scientist position with cobblestone. The vision, values and what cobblestone can offer to me as a Data scientist makes a lot of sense at this point of my career to consider applying for this position with Cobblestone."
      ],
      "id": "JAg12n3aTBwC"
    },
    {
      "cell_type": "code",
      "execution_count": null,
      "metadata": {
        "id": "JUp68HvVTBxv"
      },
      "outputs": [],
      "source": [],
      "id": "JUp68HvVTBxv"
    },
    {
      "cell_type": "code",
      "execution_count": null,
      "metadata": {
        "id": "e-i_nkdFTByZ"
      },
      "outputs": [],
      "source": [
        "The use of advanced analytics research for energy trading innovative new age futuristic vision of cobblestone is very very interesting and exciting because of which I am willing to join and be part."
      ],
      "id": "e-i_nkdFTByZ"
    },
    {
      "cell_type": "code",
      "execution_count": null,
      "metadata": {
        "id": "wuxj-Hl-TBzb"
      },
      "outputs": [],
      "source": [],
      "id": "wuxj-Hl-TBzb"
    },
    {
      "cell_type": "code",
      "execution_count": null,
      "metadata": {
        "id": "e8zsAVo2TBzt"
      },
      "outputs": [],
      "source": [
        "Academically I have been topper in my high school and graduated with Bachelor in Engineering from State top University and had good courses like linear algebra, random process, probability that is essential for good foundation for understanding of Machine learning algorithms. Non academical wise I did lot of online courses of Stanford University. I won 3rd position in Microsoft Bing hackathon text data challenge."
      ],
      "id": "e8zsAVo2TBzt"
    },
    {
      "cell_type": "code",
      "execution_count": null,
      "metadata": {
        "id": "53ozEAtUTB0j"
      },
      "outputs": [],
      "source": [],
      "id": "53ozEAtUTB0j"
    },
    {
      "cell_type": "code",
      "execution_count": null,
      "metadata": {
        "id": "Jq9STBlhTB1K"
      },
      "outputs": [],
      "source": [
        "Good knowledge of deep learning algorithms applied on solving problems like anomaly detection, forecasting and session based recommendation systems"
      ],
      "id": "Jq9STBlhTB1K"
    },
    {
      "cell_type": "code",
      "execution_count": null,
      "metadata": {
        "id": "EEufiv4GTB1M"
      },
      "outputs": [],
      "source": [],
      "id": "EEufiv4GTB1M"
    },
    {
      "cell_type": "code",
      "execution_count": null,
      "metadata": {
        "id": "p1IFLLNGTB1z"
      },
      "outputs": [],
      "source": [],
      "id": "p1IFLLNGTB1z"
    },
    {
      "cell_type": "code",
      "execution_count": null,
      "metadata": {
        "id": "2pEmzaM3TB10"
      },
      "outputs": [],
      "source": [],
      "id": "2pEmzaM3TB10"
    },
    {
      "cell_type": "code",
      "execution_count": null,
      "metadata": {
        "id": "02ifGckrTB2H"
      },
      "outputs": [],
      "source": [],
      "id": "02ifGckrTB2H"
    },
    {
      "cell_type": "code",
      "execution_count": null,
      "metadata": {
        "id": "U_T5BT0ITB2M"
      },
      "outputs": [],
      "source": [],
      "id": "U_T5BT0ITB2M"
    },
    {
      "cell_type": "code",
      "execution_count": null,
      "metadata": {
        "id": "8mSBQ9FITB3i"
      },
      "outputs": [],
      "source": [],
      "id": "8mSBQ9FITB3i"
    },
    {
      "cell_type": "code",
      "execution_count": null,
      "metadata": {
        "id": "C8l1hNNMTB4A"
      },
      "outputs": [],
      "source": [],
      "id": "C8l1hNNMTB4A"
    },
    {
      "cell_type": "code",
      "execution_count": null,
      "metadata": {
        "id": "1JMRxP5yTB4P"
      },
      "outputs": [],
      "source": [],
      "id": "1JMRxP5yTB4P"
    },
    {
      "cell_type": "code",
      "execution_count": null,
      "metadata": {
        "id": "6B2irS2YTB4e"
      },
      "outputs": [],
      "source": [],
      "id": "6B2irS2YTB4e"
    },
    {
      "cell_type": "code",
      "execution_count": null,
      "metadata": {
        "id": "ErON4Ul1TB4e"
      },
      "outputs": [],
      "source": [],
      "id": "ErON4Ul1TB4e"
    },
    {
      "cell_type": "code",
      "execution_count": null,
      "metadata": {
        "id": "Fzu7UxjRTB4n"
      },
      "outputs": [],
      "source": [],
      "id": "Fzu7UxjRTB4n"
    },
    {
      "cell_type": "code",
      "execution_count": null,
      "metadata": {
        "id": "lID8rsqoTB4x"
      },
      "outputs": [],
      "source": [],
      "id": "lID8rsqoTB4x"
    },
    {
      "cell_type": "code",
      "execution_count": null,
      "metadata": {
        "id": "tIuMEx9oTB5Y"
      },
      "outputs": [],
      "source": [],
      "id": "tIuMEx9oTB5Y"
    },
    {
      "cell_type": "code",
      "execution_count": null,
      "metadata": {
        "id": "nc3eW1VKTB5Z"
      },
      "outputs": [],
      "source": [],
      "id": "nc3eW1VKTB5Z"
    },
    {
      "cell_type": "code",
      "execution_count": null,
      "metadata": {
        "id": "btHlbdUeTB58"
      },
      "outputs": [],
      "source": [],
      "id": "btHlbdUeTB58"
    },
    {
      "cell_type": "code",
      "execution_count": null,
      "metadata": {
        "id": "bj6v61lGTB59"
      },
      "outputs": [],
      "source": [],
      "id": "bj6v61lGTB59"
    },
    {
      "cell_type": "code",
      "execution_count": null,
      "metadata": {
        "id": "1l3tmCz2TB6G"
      },
      "outputs": [],
      "source": [],
      "id": "1l3tmCz2TB6G"
    },
    {
      "cell_type": "code",
      "execution_count": null,
      "metadata": {
        "id": "Pdcm5HZVTB6Q"
      },
      "outputs": [],
      "source": [],
      "id": "Pdcm5HZVTB6Q"
    },
    {
      "cell_type": "code",
      "execution_count": null,
      "metadata": {
        "id": "cR8iEY4YTB6m"
      },
      "outputs": [],
      "source": [],
      "id": "cR8iEY4YTB6m"
    },
    {
      "cell_type": "code",
      "execution_count": null,
      "metadata": {
        "id": "9Yec6rJyTB76"
      },
      "outputs": [],
      "source": [],
      "id": "9Yec6rJyTB76"
    },
    {
      "cell_type": "code",
      "execution_count": null,
      "metadata": {
        "id": "A1NG2DVQTB9J"
      },
      "outputs": [],
      "source": [],
      "id": "A1NG2DVQTB9J"
    },
    {
      "cell_type": "code",
      "execution_count": null,
      "metadata": {
        "id": "LtByZ2ntTB9L"
      },
      "outputs": [],
      "source": [],
      "id": "LtByZ2ntTB9L"
    },
    {
      "cell_type": "code",
      "execution_count": null,
      "metadata": {
        "id": "_EagoQuuTB9T"
      },
      "outputs": [],
      "source": [],
      "id": "_EagoQuuTB9T"
    }
  ],
  "metadata": {
    "kernelspec": {
      "display_name": "Python 3",
      "language": "python",
      "name": "python3"
    },
    "language_info": {
      "codemirror_mode": {
        "name": "ipython",
        "version": 3
      },
      "file_extension": ".py",
      "mimetype": "text/x-python",
      "name": "python",
      "nbconvert_exporter": "python",
      "pygments_lexer": "ipython3",
      "version": "3.8.3"
    },
    "colab": {
      "provenance": []
    }
  },
  "nbformat": 4,
  "nbformat_minor": 5
}